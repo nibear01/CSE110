{
  "nbformat": 4,
  "nbformat_minor": 0,
  "metadata": {
    "colab": {
      "provenance": [],
      "authorship_tag": "ABX9TyPzOVAvgOAR8vLkRUB7+vAJ"
    },
    "kernelspec": {
      "name": "python3",
      "display_name": "Python 3"
    },
    "language_info": {
      "name": "python"
    }
  },
  "cells": [
    {
      "cell_type": "code",
      "execution_count": null,
      "metadata": {
        "colab": {
          "base_uri": "https://localhost:8080/"
        },
        "id": "yUGqVdK-N-WJ",
        "outputId": "e3a9e68b-e318-408b-aab1-e7da7d34f03c"
      },
      "outputs": [
        {
          "output_type": "stream",
          "name": "stdout",
          "text": [
            "3\n",
            "[3]\n",
            "5\n",
            "[3, 5]\n",
            "34\n",
            "[3, 5, 34]\n",
            "-11\n",
            "[3, 5, 34, -11]\n",
            "0\n",
            "[3, 5, 34, -11, 0]\n"
          ]
        }
      ],
      "source": [
        "#task 1\n",
        "my_list = []\n",
        "for i in range(5):\n",
        "  user = int(input())\n",
        "  my_list.append(user)\n",
        "  print(my_list)"
      ]
    },
    {
      "cell_type": "code",
      "source": [
        "#task 2\n",
        "user = input()\n",
        "new_list = user.split(\", \")\n",
        "for i in range(len(new_list)):\n",
        "  new_list[i] = int(new_list[i])\n",
        "if len(new_list) < 4:\n",
        "  print(\"Not Possible\")\n",
        "else:\n",
        "  print(new_list[2:len(new_list)-2])"
      ],
      "metadata": {
        "colab": {
          "base_uri": "https://localhost:8080/"
        },
        "id": "HMoDzvOFPQDP",
        "outputId": "d243da75-fd80-484f-bdd4-b18e9b88e70d"
      },
      "execution_count": null,
      "outputs": [
        {
          "output_type": "stream",
          "name": "stdout",
          "text": [
            "10, 20, 24\n",
            "Not Possible\n"
          ]
        }
      ]
    },
    {
      "cell_type": "code",
      "source": [
        "#task 3\n",
        "new = []\n",
        "for i in range(5):\n",
        "  user = int(input())\n",
        "  new.append(user)\n",
        "\n",
        "print(\"Printing values from the list in reverse order:\")\n",
        "\n",
        "for j in range(-1,-len(new)-1,-1):\n",
        "  print(new[j])"
      ],
      "metadata": {
        "colab": {
          "base_uri": "https://localhost:8080/"
        },
        "id": "vh23niWPRMYy",
        "outputId": "6c26d0c4-a57d-4137-c55e-8cd36a28acb0"
      },
      "execution_count": null,
      "outputs": [
        {
          "output_type": "stream",
          "name": "stdout",
          "text": [
            "5\n",
            "-5\n",
            "100\n",
            "1\n",
            "0\n",
            "Printing values from the list in reverse order:\n",
            "0\n",
            "1\n",
            "100\n",
            "-5\n",
            "5\n"
          ]
        }
      ]
    },
    {
      "cell_type": "code",
      "source": [
        "#task 4\n",
        "user = [3, 5, 1, 6]\n",
        "new = []\n",
        "for i in range(len(user)):\n",
        "  new.append(user[i]**2)\n",
        "print(new)"
      ],
      "metadata": {
        "colab": {
          "base_uri": "https://localhost:8080/"
        },
        "id": "ZwMZKUU_X7t1",
        "outputId": "db5b9393-e436-45d7-d237-1280ca915200"
      },
      "execution_count": null,
      "outputs": [
        {
          "output_type": "stream",
          "name": "stdout",
          "text": [
            "[9, 25, 1, 36]\n"
          ]
        }
      ]
    },
    {
      "cell_type": "code",
      "source": [
        "#task 5\n",
        "user = [\"hey\", \"there\", \"\", \"what's\", \"\", \"up\", \"\", \"?\"]\n",
        "new = []\n",
        "for i in user:\n",
        "  if i == '':\n",
        "    pass\n",
        "  else:\n",
        "    new.append(i)\n",
        "print(\"\"\"Original List: ['hey', 'there', '', \"what's\", '', 'up', '', '?']\"\"\")\n",
        "print(\"Modified list:\",new)"
      ],
      "metadata": {
        "colab": {
          "base_uri": "https://localhost:8080/"
        },
        "id": "_1Xzbbc5a0jz",
        "outputId": "28878bda-2a38-49aa-89e4-de51145ead4e"
      },
      "execution_count": null,
      "outputs": [
        {
          "output_type": "stream",
          "name": "stdout",
          "text": [
            "Original List: ['hey', 'there', '', \"what's\", '', 'up', '', '?']\n",
            "Modified list: ['hey', 'there', \"what's\", 'up', '?']\n"
          ]
        }
      ]
    },
    {
      "cell_type": "code",
      "source": [
        "#task 6\n",
        "user = input()\n",
        "new = user.split(\",\")\n",
        "a_lis = []\n",
        "\n",
        "for i in range(len(new)):\n",
        "  new[i] = int(new[i])\n",
        "  a_lis.append(new[i])\n",
        "print(a_lis)\n",
        "\n",
        "ind_num = a_lis[0]\n",
        "pos = 0\n",
        "for j in range(1,len(a_lis)):\n",
        "  if ind_num < a_lis[j]:\n",
        "    ind_num = a_lis[j]\n",
        "    pos = j\n",
        "print(\"Largest number in the list is {} which was found at index {}.\".format(ind_num,pos))"
      ],
      "metadata": {
        "colab": {
          "base_uri": "https://localhost:8080/"
        },
        "id": "rrZTPEgBdwEv",
        "outputId": "84597f2b-a162-4620-aa92-fa4d9104c091"
      },
      "execution_count": null,
      "outputs": [
        {
          "output_type": "stream",
          "name": "stdout",
          "text": [
            "7,13,2,10,6,-11,0\n",
            "[7, 13, 2, 10, 6, -11, 0]\n",
            "Largest number in the list is 13 which was found at index 1.\n"
          ]
        }
      ]
    },
    {
      "cell_type": "code",
      "source": [
        "#task 7\n",
        "a_lis = [1, 4, 7, 5]\n",
        "b_lis = [6, 1, 3, 9]\n",
        "print(a_lis[0:len(a_lis)-1] + b_lis[0:len(b_lis)])"
      ],
      "metadata": {
        "colab": {
          "base_uri": "https://localhost:8080/"
        },
        "id": "hcclBsYDhJ4x",
        "outputId": "e762d6c9-9b35-4b71-8733-10bf24565fe7"
      },
      "execution_count": null,
      "outputs": [
        {
          "output_type": "stream",
          "name": "stdout",
          "text": [
            "[1, 4, 7, 6, 1, 3, 9]\n"
          ]
        }
      ]
    },
    {
      "cell_type": "code",
      "source": [
        "#task 8\n",
        "list1 = [1, 2, 3, 4, 5, 6, 7, 8, 9]\n",
        "list2 = [10, 11, 12, -13, -14, -15, -16]\n",
        "new1 = []\n",
        "new2 = []\n",
        "for i in range(len(list1)):\n",
        "  if list1[i]%2 == 0:\n",
        "    new1.append(list1[i])\n",
        "for j in range(len(list2)):\n",
        "  if list2[j]%2 == 0:\n",
        "    new2.append(list2[j])\n",
        "print(new1+new2)"
      ],
      "metadata": {
        "colab": {
          "base_uri": "https://localhost:8080/"
        },
        "id": "zFb01VlAjFje",
        "outputId": "76ce76d1-6f56-4564-c64e-b84b17e2ed8a"
      },
      "execution_count": null,
      "outputs": [
        {
          "output_type": "stream",
          "name": "stdout",
          "text": [
            "[2, 4, 6, 8, 10, 12, -14, -16]\n"
          ]
        }
      ]
    },
    {
      "cell_type": "code",
      "source": [
        "#task 9\n",
        "user = input()\n",
        "new = []\n",
        "emp_str = \" \"\n",
        "for i in user:\n",
        "  if i!= \" \":\n",
        "    emp_str += i\n",
        "  else:\n",
        "    new.append(int(emp_str))\n",
        "    emp_str = \" \"\n",
        "new.append(int(emp_str))\n",
        "print(\"Original list:\",new)\n",
        "new1 = []\n",
        "for j in new:\n",
        "  if j%2!=0:\n",
        "    new1.append(j)\n",
        "print(\"Modified list:\",new1)"
      ],
      "metadata": {
        "id": "fEEh-LebrHPG",
        "colab": {
          "base_uri": "https://localhost:8080/"
        },
        "outputId": "4d37be1c-ac8d-4317-89c5-189e88123b57"
      },
      "execution_count": null,
      "outputs": [
        {
          "output_type": "stream",
          "name": "stdout",
          "text": [
            "7 12 4 55 96 2 11 61 33 42\n",
            "Original list: [7, 12, 4, 55, 96, 2, 11, 61, 33, 42]\n",
            "Modified list: [7, 55, 11, 61, 33]\n"
          ]
        }
      ]
    },
    {
      "cell_type": "code",
      "source": [
        "#task 10\n",
        "user = input()\n",
        "new1 = user.split(\",\")\n",
        "new = []\n",
        "\n",
        "for i in range(len(new1)):\n",
        "  if new1[i] == \",\":\n",
        "    pass\n",
        "  else:\n",
        "    new.append(int(new1[i]))\n",
        "print(\"Input list:\",new)\n",
        "\n",
        "new2 = []\n",
        "for j in new:\n",
        "  if j not in new2:\n",
        "    new2.append(j)\n",
        "print(\"Modified list:\",new2)"
      ],
      "metadata": {
        "colab": {
          "base_uri": "https://localhost:8080/"
        },
        "id": "2ei2jVJRrgNE",
        "outputId": "d6952507-2b90-4f4a-9099-1b4a8c124163"
      },
      "execution_count": null,
      "outputs": [
        {
          "output_type": "stream",
          "name": "stdout",
          "text": [
            "0, 0, 1, 2, 3, 4, 4, 5, 6, 6, 6, 7, 8, 9, 4, 4\n",
            "Input list: [0, 0, 1, 2, 3, 4, 4, 5, 6, 6, 6, 7, 8, 9, 4, 4]\n",
            "Modified list: [0, 1, 2, 3, 4, 5, 6, 7, 8, 9]\n"
          ]
        }
      ]
    },
    {
      "cell_type": "code",
      "source": [
        "#task 11\n",
        "list1 = [1, 4, 3, 2, 6]\n",
        "list2 = [5, 6, 9, 8, 7]\n",
        "flag = False\n",
        "for i in list1:\n",
        "  if i in list2:\n",
        "    flag = True\n",
        "    break\n",
        "print(flag)\n"
      ],
      "metadata": {
        "colab": {
          "base_uri": "https://localhost:8080/"
        },
        "id": "lAmAPn4Mrghl",
        "outputId": "bb5702f6-4f8d-439d-c448-45facff63745"
      },
      "execution_count": null,
      "outputs": [
        {
          "output_type": "stream",
          "name": "stdout",
          "text": [
            "True\n"
          ]
        }
      ]
    },
    {
      "cell_type": "code",
      "source": [
        "#task 16\n",
        "new = []\n",
        "for i in range(0,7):\n",
        "  user = int(input())\n",
        "  new.append(user)\n",
        "print(\"My list:\",new)\n",
        "\n",
        "largest = new[0]\n",
        "second_largest = new[0]\n",
        "index = 0\n",
        "for j in range(len(new)):\n",
        "  if new[j] > largest:\n",
        "      second_largest = largest\n",
        "      largest = new[j]\n",
        "      index = j\n",
        "  elif new[j]>second_largest and new[j]<largest:\n",
        "      second_largest = new[j]\n",
        "      index = j\n",
        "\n",
        "print(\"Second largest number in the list is\", second_largest, \"which was found at index\", index)"
      ],
      "metadata": {
        "colab": {
          "base_uri": "https://localhost:8080/"
        },
        "id": "nrrxEFJKDOqc",
        "outputId": "b0083b48-c520-4fd4-fe16-b12287438a77"
      },
      "execution_count": null,
      "outputs": [
        {
          "output_type": "stream",
          "name": "stdout",
          "text": [
            "7\n",
            "13\n",
            "2\n",
            "10\n",
            "6\n",
            "-11\n",
            "0\n",
            "My list: [7, 13, 2, 10, 6, -11, 0]\n",
            "Second largest number in the list is 10 which was found at index 3\n"
          ]
        }
      ]
    }
  ]
}