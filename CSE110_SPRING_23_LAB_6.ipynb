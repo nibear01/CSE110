{
  "nbformat": 4,
  "nbformat_minor": 0,
  "metadata": {
    "colab": {
      "provenance": [],
      "authorship_tag": "ABX9TyOTE9SWcXBeb5OBGR3WNHxB"
    },
    "kernelspec": {
      "name": "python3",
      "display_name": "Python 3"
    },
    "language_info": {
      "name": "python"
    }
  },
  "cells": [
    {
      "cell_type": "code",
      "execution_count": null,
      "metadata": {
        "colab": {
          "base_uri": "https://localhost:8080/"
        },
        "id": "PSf1NxklULQi",
        "outputId": "0d58421a-ec7e-40df-e464-21b8e2327c27"
      },
      "outputs": [
        {
          "output_type": "stream",
          "name": "stdout",
          "text": [
            "400\n"
          ]
        }
      ],
      "source": [
        "#task 1\n",
        "a_tuple = (\"The Institute\", (\"Best Mystery & Thriller\", \"The Silent Patient\", 68821), 75717,\n",
        "[1, 2, 3, 400, 5, 6, 7], (\"Best Fiction\", \"The Testaments\", 98291))\n",
        "print(a_tuple[3][3])"
      ]
    },
    {
      "cell_type": "code",
      "source": [
        "#task 2\n",
        "a_tup = (-10, 20, 30, 40)\n",
        "new = a_tup[2:len(a_tup)-2]\n",
        "print(new)"
      ],
      "metadata": {
        "colab": {
          "base_uri": "https://localhost:8080/"
        },
        "id": "P5U-tJZcUtpU",
        "outputId": "a975ca2e-e14a-4dbf-b2ad-f5ef62f0f469"
      },
      "execution_count": null,
      "outputs": [
        {
          "output_type": "stream",
          "name": "stdout",
          "text": [
            "()\n"
          ]
        }
      ]
    },
    {
      "cell_type": "code",
      "source": [
        "#task 3\n",
        "book_info = (\n",
        "(\"Best Mystery & Thriller\",\"The Silent Patient\",68,821),\n",
        "(\"Best Horror\",\"The Institute\",75,717),\n",
        "(\"Best History & Biography\",\"The five\",31,783 ),\n",
        "(\"Best Fiction\",\"The Testaments\",98,291)\n",
        ")\n",
        "\n",
        "print(\"Size of the tuple is: {}\".format(len(book_info)))\n",
        "\n",
        "for i in book_info:\n",
        "  print(i)"
      ],
      "metadata": {
        "colab": {
          "base_uri": "https://localhost:8080/"
        },
        "id": "vHxd_tzJU-aX",
        "outputId": "224b2e9a-168e-49e6-dd59-207ef9607b88"
      },
      "execution_count": null,
      "outputs": [
        {
          "output_type": "stream",
          "name": "stdout",
          "text": [
            "Size of the tuple is: 4\n",
            "('Best Mystery & Thriller', 'The Silent Patient', 68, 821)\n",
            "('Best Horror', 'The Institute', 75, 717)\n",
            "('Best History & Biography', 'The five', 31, 783)\n",
            "('Best Fiction', 'The Testaments', 98, 291)\n"
          ]
        }
      ]
    },
    {
      "cell_type": "code",
      "source": [
        "#task 4\n",
        "book_info = (\n",
        "(\"Best Mystery & Thriller\",\"The Silent Patient\",68821),\n",
        "(\"Best Horror\",\"The Institute\",75717),\n",
        "(\"Best History & Biography\",\"The five\",31783 ),\n",
        "(\"Best Fiction\",\"The Testaments\",98291)\n",
        ")\n",
        "\n",
        "for i in range(len(book_info)):\n",
        "  print(\"{} won the '{}' category with {} votes\".format(book_info[i][1],book_info[i][0],book_info[i][2]))"
      ],
      "metadata": {
        "colab": {
          "base_uri": "https://localhost:8080/"
        },
        "id": "e9qIHplAVfem",
        "outputId": "a1084c3c-f1bb-485c-b39f-a2e526d776f9"
      },
      "execution_count": null,
      "outputs": [
        {
          "output_type": "stream",
          "name": "stdout",
          "text": [
            "The Silent Patient won the 'Best Mystery & Thriller' category with 68821 votes\n",
            "The Institute won the 'Best Horror' category with 75717 votes\n",
            "The five won the 'Best History & Biography' category with 31783 votes\n",
            "The Testaments won the 'Best Fiction' category with 98291 votes\n"
          ]
        }
      ]
    },
    {
      "cell_type": "code",
      "source": [
        "book_info = (\n",
        "(\"Best Mystery & Thriller\",\"The Silent Patient\",68821),\n",
        "(\"Best Horror\",\"The Institute\",75717),\n",
        "(\"Best History & Biography\",\"The five\",31783 ),\n",
        "(\"Best Fiction\",\"The Testaments\",98291)\n",
        ")\n",
        "\n",
        "for i in book_info:\n",
        "  a,b,c = i\n",
        "  print(\"{} won the '{}' category with {} votes\".format(b,a,c))"
      ],
      "metadata": {
        "colab": {
          "base_uri": "https://localhost:8080/"
        },
        "id": "Z7OOtnSSgzHu",
        "outputId": "01a7ecf0-a4ef-48b8-affc-10fd2082c763"
      },
      "execution_count": null,
      "outputs": [
        {
          "output_type": "stream",
          "name": "stdout",
          "text": [
            "The Silent Patient won the 'Best Mystery & Thriller' category with 68821 votes\n",
            "The Institute won the 'Best Horror' category with 75717 votes\n",
            "The five won the 'Best History & Biography' category with 31783 votes\n",
            "The Testaments won the 'Best Fiction' category with 98291 votes\n"
          ]
        }
      ]
    },
    {
      "cell_type": "code",
      "source": [
        "#task 5\n",
        "tup_a = (10, 8, 5, 2, 10, 15, 10, 8, 5, 8, 8, 2)\n",
        "user = int(input())\n",
        "count = 0\n",
        "for i in range(len(tup_a)):\n",
        "  if tup_a[i] == user:\n",
        "    count += 1\n",
        "print(\"{} appears {} times in the tuple\".format(user,count))"
      ],
      "metadata": {
        "colab": {
          "base_uri": "https://localhost:8080/"
        },
        "id": "bRAq0Ot4WMQI",
        "outputId": "4ae1a9c4-6c6b-4aec-c3cb-489d53438f09"
      },
      "execution_count": null,
      "outputs": [
        {
          "output_type": "stream",
          "name": "stdout",
          "text": [
            "8\n",
            "8 appears 4 times in the tuple\n"
          ]
        }
      ]
    },
    {
      "cell_type": "code",
      "source": [
        "tup_a = (10, 8, 5, 2, 10, 15, 10, 8, 5, 8, 8, 2)\n",
        "user = int(input())\n",
        "count = 0\n",
        "for i in tup_a:\n",
        "  if i == user:\n",
        "    count += 1\n",
        "print(\"{} appears {} times in the tuple\".format(user,count))"
      ],
      "metadata": {
        "colab": {
          "base_uri": "https://localhost:8080/"
        },
        "id": "PUl1Q3YkuJat",
        "outputId": "a9a051ca-abca-483e-9169-4c7217b56ec2"
      },
      "execution_count": null,
      "outputs": [
        {
          "output_type": "stream",
          "name": "stdout",
          "text": [
            "8\n",
            "8 appears 4 times in the tuple\n"
          ]
        }
      ]
    },
    {
      "cell_type": "code",
      "source": [
        "#task 6\n",
        "tup_a = (10, 20, 30, 40, 50, 60)\n",
        "new = []\n",
        "for i in range(len(tup_a)):\n",
        "  new.append(tup_a[i])\n",
        "\n",
        "new1 = []\n",
        "for j in range(-1,-len(new)-1,-1):\n",
        "  new1.append(new[j])\n",
        "\n",
        "final = tuple(new1)\n",
        "print(final)"
      ],
      "metadata": {
        "colab": {
          "base_uri": "https://localhost:8080/"
        },
        "id": "Arlad4rSW6Jo",
        "outputId": "d8c89a0a-4d04-4755-bca0-465761631e2b"
      },
      "execution_count": null,
      "outputs": [
        {
          "output_type": "stream",
          "name": "stdout",
          "text": [
            "(60, 50, 40, 30, 20, 10)\n"
          ]
        }
      ]
    },
    {
      "cell_type": "code",
      "source": [
        "tup_a = (10, 20, 30, 40, 50, 60)\n",
        "new = []\n",
        "for i in tup_a:\n",
        "  new.append(i)\n",
        "\n",
        "new1 = []\n",
        "for j in range(-1,-len(new)-1,-1):\n",
        "  new1.append(new[j])\n",
        "\n",
        "\n",
        "print(tuple(new1))"
      ],
      "metadata": {
        "colab": {
          "base_uri": "https://localhost:8080/"
        },
        "id": "5eHqgxD6uq3H",
        "outputId": "8b22bfcd-b996-48c2-ad92-f4b87c149523"
      },
      "execution_count": null,
      "outputs": [
        {
          "output_type": "stream",
          "name": "stdout",
          "text": [
            "(60, 50, 40, 30, 20, 10)\n"
          ]
        }
      ]
    },
    {
      "cell_type": "code",
      "source": [
        "#task 7\n",
        "dict_a = {'Harry':15, 'Draco':8, 'Nevil':19}\n",
        "dict_b = {'Ginie':18, 'Luna': 14}\n",
        "marks = {}\n",
        "marks.update(dict_a)\n",
        "marks.update(dict_b)\n",
        "print(marks)"
      ],
      "metadata": {
        "colab": {
          "base_uri": "https://localhost:8080/"
        },
        "id": "ba5M9W73YfHd",
        "outputId": "2b9dd9a2-ec57-489d-daa3-b908bf8cb59d"
      },
      "execution_count": null,
      "outputs": [
        {
          "output_type": "stream",
          "name": "stdout",
          "text": [
            "{'Harry': 15, 'Draco': 8, 'Nevil': 19, 'Ginie': 18, 'Luna': 14}\n"
          ]
        }
      ]
    },
    {
      "cell_type": "code",
      "source": [
        "dict_a = {'Harry':15, 'Draco':8, 'Nevil':19}\n",
        "dict_b = {'Ginie':18, 'Luna': 14}\n",
        "marks = {}\n",
        "for key,value in dict_a.items():\n",
        "  marks[key] = value\n",
        "for key,value in dict_b.items():\n",
        "  marks[key] = value\n",
        "print(marks)"
      ],
      "metadata": {
        "colab": {
          "base_uri": "https://localhost:8080/"
        },
        "id": "_KOFDYtGZ9Wg",
        "outputId": "53ed3ad6-31eb-453f-e10d-f8f8b7a7c1df"
      },
      "execution_count": null,
      "outputs": [
        {
          "output_type": "stream",
          "name": "stdout",
          "text": [
            "{'Harry': 15, 'Draco': 8, 'Nevil': 19, 'Ginie': 18, 'Luna': 14}\n"
          ]
        }
      ]
    },
    {
      "cell_type": "code",
      "source": [
        "#task 8\n",
        "items = int(input())\n",
        "dic_a = {}\n",
        "for i in range(items):\n",
        "  key = input()\n",
        "  value = int(input())\n",
        "  dic_a[key] = value\n",
        "print(dic_a)\n",
        "\n",
        "sum = 0\n",
        "for value in dic_a.values():\n",
        "  sum += value\n",
        "avg = sum/items\n",
        "print(\"Average is {}.\".format(int(avg)))"
      ],
      "metadata": {
        "colab": {
          "base_uri": "https://localhost:8080/"
        },
        "id": "_HEjV-Z8ZcFc",
        "outputId": "b0bbeb55-4076-45fe-973b-460515d22cbd"
      },
      "execution_count": null,
      "outputs": [
        {
          "output_type": "stream",
          "name": "stdout",
          "text": [
            "3\n",
            "Jon\n",
            "100\n",
            "Dan\n",
            "200\n",
            "Ron\n",
            "300\n",
            "{'Jon': 100, 'Dan': 200, 'Ron': 300}\n",
            "Average is 200.\n"
          ]
        }
      ]
    },
    {
      "cell_type": "code",
      "source": [
        "#task 8(using split function)\n",
        "str1 = input()\n",
        "lst = str1.split(\",\")\n",
        "new_dict = {}\n",
        "for i in lst:\n",
        "  key,value = tuple(i.split(\":\"))\n",
        "  new_dict[key] = int(value)\n",
        "\n",
        "sum = 0\n",
        "count = 0\n",
        "for value in new_dict.values():\n",
        "  sum += value\n",
        "  count += 1\n",
        "avg = sum//count\n",
        "print(\"Average is {}.\".format(avg))"
      ],
      "metadata": {
        "colab": {
          "base_uri": "https://localhost:8080/"
        },
        "id": "wlCeX7exdPjU",
        "outputId": "2f7a1c0d-b3fa-4881-805e-0131e01bb69a"
      },
      "execution_count": null,
      "outputs": [
        {
          "output_type": "stream",
          "name": "stdout",
          "text": [
            "Jon:100, Dan:200, Rob:300\n",
            "Average is 200.\n"
          ]
        }
      ]
    },
    {
      "cell_type": "code",
      "source": [
        "#task 9\n",
        "exam_marks = {'Cierra Vega': 175, 'Alden Cantrell': 200, 'Kierra Gentry': 165, 'Pierre Cox': 190}\n",
        "user = int(input())\n",
        "new = {}\n",
        "for key,value in exam_marks.items():\n",
        "  if value>=user:\n",
        "    new[key] = value\n",
        "print(new)"
      ],
      "metadata": {
        "colab": {
          "base_uri": "https://localhost:8080/"
        },
        "id": "gGjg_8sNfV8N",
        "outputId": "b2323e87-32c9-4b60-b3e9-2ef03f98aec2"
      },
      "execution_count": null,
      "outputs": [
        {
          "output_type": "stream",
          "name": "stdout",
          "text": [
            "170\n",
            "{'Cierra Vega': 175, 'Alden Cantrell': 200, 'Pierre Cox': 190}\n"
          ]
        }
      ]
    },
    {
      "cell_type": "code",
      "source": [
        "#task 10\n",
        "dic_a = {'sci fi': 12, 'mystery': 15, 'horror': 8, 'mythology': 10, 'young_adult': 4, 'adventure':14}\n",
        "max = 0\n",
        "genre = ''\n",
        "for key,value in dic_a.items():\n",
        "  if value>max:\n",
        "    max = value\n",
        "    genre = key\n",
        "print(\"The highest selling book genre is '{}' and the number of books sold are {}.\".format(genre,max))"
      ],
      "metadata": {
        "colab": {
          "base_uri": "https://localhost:8080/"
        },
        "id": "spOikcawwtW4",
        "outputId": "101300cb-eb95-4805-9061-4431be3bdb03"
      },
      "execution_count": null,
      "outputs": [
        {
          "output_type": "stream",
          "name": "stdout",
          "text": [
            "The highest selling book genre is 'mystery' and the number of books sold are 15.\n"
          ]
        }
      ]
    },
    {
      "cell_type": "code",
      "source": [
        "#task 11\n",
        "user = input(\"Enter a string input: \")\n",
        "new = {}\n",
        "for i in user:\n",
        "  i = i.lower()\n",
        "  if 97<= ord(i) <= 122:\n",
        "    if i not in new:\n",
        "      new[i] = 1\n",
        "    else:\n",
        "      new[i] += 1\n",
        "print(new)"
      ],
      "metadata": {
        "colab": {
          "base_uri": "https://localhost:8080/"
        },
        "id": "da9287wryyu0",
        "outputId": "0aa261d9-0f64-46ee-c636-2cc5c864b85b"
      },
      "execution_count": null,
      "outputs": [
        {
          "output_type": "stream",
          "name": "stdout",
          "text": [
            "Enter a string input: Python programming is fun\n",
            "{'p': 2, 'y': 1, 't': 1, 'h': 1, 'o': 2, 'n': 3, 'r': 2, 'g': 2, 'a': 1, 'm': 2, 'i': 2, 's': 1, 'f': 1, 'u': 1}\n"
          ]
        }
      ]
    },
    {
      "cell_type": "code",
      "source": [
        "user = input().lower()\n",
        "new = {}\n",
        "for i in user:\n",
        "  if 97<= ord(i) <=122:\n",
        "    if i not in new:\n",
        "      new[i] = 1\n",
        "    else:\n",
        "      new[i] += 1\n",
        "print(new)"
      ],
      "metadata": {
        "colab": {
          "base_uri": "https://localhost:8080/"
        },
        "id": "ySvo3N3cbJUi",
        "outputId": "ed0c30fe-2ec5-4593-adbc-38c720ecec68"
      },
      "execution_count": null,
      "outputs": [
        {
          "output_type": "stream",
          "name": "stdout",
          "text": [
            "Python programming is fun\n",
            "{'p': 2, 'y': 1, 't': 1, 'h': 1, 'o': 2, 'n': 3, 'r': 2, 'g': 2, 'a': 1, 'm': 2, 'i': 2, 's': 1, 'f': 1, 'u': 1}\n"
          ]
        }
      ]
    },
    {
      "cell_type": "code",
      "source": [
        "#task 12\n",
        "dict_1 = {'A': [1, 2, 3], 'b': ['1', '2'], \"c\": [4, 5, 6, 7]}\n",
        "count = 0\n",
        "for i in dict_1.values():\n",
        "  for j in i:\n",
        "    count += 1\n",
        "print(count)"
      ],
      "metadata": {
        "id": "edSZ0oWQ417c",
        "colab": {
          "base_uri": "https://localhost:8080/"
        },
        "outputId": "58049e14-8c3e-461f-a413-02b9b541133c"
      },
      "execution_count": null,
      "outputs": [
        {
          "output_type": "stream",
          "name": "stdout",
          "text": [
            "9\n"
          ]
        }
      ]
    },
    {
      "cell_type": "code",
      "source": [
        "dict_1 = {'A': [1, 2, 3], 'b': ['1', '2'], \"c\": [4, 5, 6, 7]}\n",
        "count = 0\n",
        "for value in dict_1.values():\n",
        "  for i in value:\n",
        "    count += 1\n",
        "print(count)"
      ],
      "metadata": {
        "colab": {
          "base_uri": "https://localhost:8080/"
        },
        "id": "8mpOgLq-03R9",
        "outputId": "80aefb7e-adca-4988-8308-0cc2e3db61e3"
      },
      "execution_count": null,
      "outputs": [
        {
          "output_type": "stream",
          "name": "stdout",
          "text": [
            "9\n"
          ]
        }
      ]
    },
    {
      "cell_type": "code",
      "source": [
        "#task 13\n",
        "list_1 = [(\"a\", 1), (\"b\", 2), (\"a\", 3), (\"b\", 1), (\"a\", 2), (\"c\", 1)]\n",
        "new = {}\n",
        "for i in list_1:\n",
        "  key,value = i\n",
        "  if key not in new:\n",
        "    new[key] = [value]\n",
        "  else:\n",
        "    new[key].append(value)\n",
        "print(new)"
      ],
      "metadata": {
        "colab": {
          "base_uri": "https://localhost:8080/"
        },
        "id": "qzdBVE9hnB4R",
        "outputId": "49e16fef-916e-452c-fd4b-a1eabb17a674"
      },
      "execution_count": null,
      "outputs": [
        {
          "output_type": "stream",
          "name": "stdout",
          "text": [
            "{'a': [1, 3, 2], 'b': [2, 1], 'c': [1]}\n"
          ]
        }
      ]
    },
    {
      "cell_type": "code",
      "source": [
        "#task 15\n",
        "lst1 = [(2, 3), (4, 5), (6, 7), (2, 8)]\n",
        "result = []\n",
        "for i in lst:\n",
        "  result.append(i[0]*i[1])\n",
        "print(result)"
      ],
      "metadata": {
        "colab": {
          "base_uri": "https://localhost:8080/"
        },
        "id": "ngs5HrfwWI6c",
        "outputId": "94aedd66-c631-47b5-d012-cbed04bde099"
      },
      "execution_count": null,
      "outputs": [
        {
          "output_type": "stream",
          "name": "stdout",
          "text": [
            "[6, 20, 42, 16]\n"
          ]
        }
      ]
    },
    {
      "cell_type": "code",
      "source": [
        "#task 16\n",
        "a_tuple = ( [1, 2, 3], [4, 5, 6], [7, 8, 9], [10, 11, 12])\n",
        "user_input = input(\"Enter a value: \")\n",
        "new_tuple = tuple([lst[:-1] + [user_input] for lst in a_tuple])\n",
        "print(new_tuple)"
      ],
      "metadata": {
        "colab": {
          "base_uri": "https://localhost:8080/"
        },
        "id": "n6Eow4EEZL-R",
        "outputId": "220a5fb4-8cb6-452b-c196-100607e5c2aa"
      },
      "execution_count": null,
      "outputs": [
        {
          "output_type": "stream",
          "name": "stdout",
          "text": [
            "Enter a value: abc\n",
            "([1, 2, 'abc'], [4, 5, 'abc'], [7, 8, 'abc'], [10, 11, 'abc'])\n"
          ]
        }
      ]
    },
    {
      "cell_type": "code",
      "source": [
        "#task 19\n",
        "lst1 = [(20, 80), (31, 80), (1, 22), (88, 11), (27, 11)]\n",
        "new = []\n",
        "for i in lst1:\n",
        "  if i[1] not in new:\n",
        "    new.append(i[1])\n",
        "  else:\n",
        "    pass\n",
        "\n",
        "new1 = []\n",
        "dict1 = {}\n",
        "for j in range(len(new)):\n",
        "  for k in range(len(lst1)):\n",
        "    if new[j] == lst1[k][1]:\n",
        "      new1.append(lst1[k])\n",
        "      dict1[new[j]] = new1\n",
        "  new1 = []\n",
        "\n",
        "new_dict = {}\n",
        "for key,value in dict1.items():\n",
        "  if len(value)>1:\n",
        "    new_dict[key] = value\n",
        "\n",
        "for key,value in dict1.items():\n",
        "  if len(value) == 1:\n",
        "    new_dict[key] = value\n",
        "\n",
        "print(new_dict)"
      ],
      "metadata": {
        "colab": {
          "base_uri": "https://localhost:8080/"
        },
        "id": "l1-KdH6arxqN",
        "outputId": "802d0f70-16e5-4be6-e680-71edf27d589d"
      },
      "execution_count": null,
      "outputs": [
        {
          "output_type": "stream",
          "name": "stdout",
          "text": [
            "{80: [(20, 80), (31, 80)], 11: [(88, 11), (27, 11)], 22: [(1, 22)]}\n"
          ]
        }
      ]
    },
    {
      "cell_type": "code",
      "source": [
        "#1\n",
        "new = []\n",
        "for i in range(6):\n",
        "  val = input()\n",
        "  new.append(val)\n",
        "\n",
        "user = input()\n",
        "print(new)\n",
        "\n",
        "count = None\n",
        "count = -1\n",
        "for j in range(len(new)):\n",
        "  if new[j] == user:\n",
        "    count = j\n",
        "    break\n",
        "if count == -1:\n",
        "  print(\"NOT FOUND\")\n",
        "print(count)\n"
      ],
      "metadata": {
        "colab": {
          "base_uri": "https://localhost:8080/"
        },
        "id": "PzN5fDRhUYmb",
        "outputId": "8137855c-60e8-4ca2-c827-82b6223478de"
      },
      "execution_count": null,
      "outputs": [
        {
          "output_type": "stream",
          "name": "stdout",
          "text": [
            "4\n",
            "Blue\n",
            "E\n",
            "True\n",
            "Blue\n",
            "7\n",
            "Blue\n",
            "['4', 'Blue', 'E', 'True', 'Blue', '7']\n",
            "1\n"
          ]
        }
      ]
    },
    {
      "cell_type": "code",
      "source": [
        "#2\n",
        "new = []\n",
        "while True:\n",
        "  user = input()\n",
        "  if user != \"END\":\n",
        "    new.append(user)\n",
        "  elif user == \"END\":\n",
        "    break\n",
        "print(new)\n",
        "\n",
        "user = input()\n",
        "index = int(input())\n",
        "new[index] = user\n",
        "print(new)"
      ],
      "metadata": {
        "colab": {
          "base_uri": "https://localhost:8080/"
        },
        "id": "QUF6_catRKSu",
        "outputId": "2904d10a-cd0c-486c-ce09-e049f1e51aa3"
      },
      "execution_count": null,
      "outputs": [
        {
          "output_type": "stream",
          "name": "stdout",
          "text": [
            "3\n",
            "4\n",
            "5\n",
            "7\n",
            "True\n",
            "HORSE\n",
            "END\n",
            "['3', '4', '5', '7', 'True', 'HORSE']\n",
            "Orange\n",
            "2\n",
            "['3', '4', 'Orange', '7', 'True', 'HORSE']\n"
          ]
        }
      ]
    }
  ]
}