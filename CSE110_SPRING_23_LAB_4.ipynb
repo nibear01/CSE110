{
  "nbformat": 4,
  "nbformat_minor": 0,
  "metadata": {
    "colab": {
      "provenance": [],
      "authorship_tag": "ABX9TyOXG97fqxTsbZGiYtT17EGJ"
    },
    "kernelspec": {
      "name": "python3",
      "display_name": "Python 3"
    },
    "language_info": {
      "name": "python"
    }
  },
  "cells": [
    {
      "cell_type": "code",
      "execution_count": null,
      "metadata": {
        "colab": {
          "base_uri": "https://localhost:8080/"
        },
        "id": "NdY7EjGyCvjj",
        "outputId": "645f8062-2a16-448f-ed03-80fee0bfae47"
      },
      "outputs": [
        {
          "output_type": "stream",
          "name": "stdout",
          "text": [
            "Enter a string: CSE110\n",
            "011ESC"
          ]
        }
      ],
      "source": [
        "#task 1\n",
        "user = input(\"Enter a string: \")\n",
        "for i in range(len(user)-1,-1,-1):\n",
        "  print(user[i],end=\"\")"
      ]
    },
    {
      "cell_type": "code",
      "source": [
        "#task 2\n",
        "string = input(\"Enter a string input: \")\n",
        "index = int(input(\"Enter a index input: \"))\n",
        "result = string[index: :-1]+string[index+1:]\n",
        "print(result)"
      ],
      "metadata": {
        "colab": {
          "base_uri": "https://localhost:8080/"
        },
        "id": "YOOkVTwsG8kg",
        "outputId": "5ca05eea-1409-4858-e69c-0673e5095778"
      },
      "execution_count": null,
      "outputs": [
        {
          "output_type": "stream",
          "name": "stdout",
          "text": [
            "Enter a string input: 12345\n",
            "Enter a index input: 2\n",
            "32145\n"
          ]
        }
      ]
    },
    {
      "cell_type": "code",
      "source": [
        "#task 3\n",
        "string = input(\"Enter a string input: \")\n",
        "var = True\n",
        "for i in string:\n",
        "  if i == \"0\" or i == \"1\":\n",
        "    continue\n",
        "  else:\n",
        "    var = False\n",
        "if var == True:\n",
        "  print(\"Binary Number\")\n",
        "else:\n",
        "  print(\"Not a Binary Number\")"
      ],
      "metadata": {
        "colab": {
          "base_uri": "https://localhost:8080/"
        },
        "id": "sVp3Ci5XHrm-",
        "outputId": "82092ad2-89cb-48fe-814a-c0d49d0aab8a"
      },
      "execution_count": null,
      "outputs": [
        {
          "output_type": "stream",
          "name": "stdout",
          "text": [
            "Enter a string input: 101001\n",
            "Binary Number\n"
          ]
        }
      ]
    },
    {
      "cell_type": "code",
      "source": [
        "#task 3(using count)\n",
        "user = input(\"Enter a string: \")\n",
        "count = 0\n",
        "for i in user:\n",
        "  if i == \"0\" or i ==\"1\":\n",
        "    continue\n",
        "  else:\n",
        "    count +=1\n",
        "    break\n",
        "if count == 0:\n",
        "  print(\"Binary Number\")\n",
        "else:\n",
        "  print(\"Not a Binary Number\")"
      ],
      "metadata": {
        "id": "LxvPZ__8Mf79",
        "colab": {
          "base_uri": "https://localhost:8080/"
        },
        "outputId": "833a059d-6b53-4999-bfaf-19e618112cff"
      },
      "execution_count": null,
      "outputs": [
        {
          "output_type": "stream",
          "name": "stdout",
          "text": [
            "Enter a string: 1003301\n",
            "Not a Binary Number\n"
          ]
        }
      ]
    },
    {
      "cell_type": "code",
      "source": [
        "#task 4\n",
        "user = input(\"Enter a string: \")\n",
        "length = len(user)\n",
        "if user[length-2:] == \"er\":\n",
        "  user = user[0:length-2] + \"est\"\n",
        "  print(user)\n",
        "elif user[length-3:] == \"est\":\n",
        "  print(user)\n",
        "elif length<4:\n",
        "  print(user)\n",
        "elif length>3:\n",
        "  user = user + \"er\"\n",
        "  print(user)\n",
        "else:\n",
        "  pass"
      ],
      "metadata": {
        "colab": {
          "base_uri": "https://localhost:8080/"
        },
        "id": "TWvQTFuaIlXP",
        "outputId": "734c597b-7a6a-48d4-a0bb-389ad0b2494b"
      },
      "execution_count": null,
      "outputs": [
        {
          "output_type": "stream",
          "name": "stdout",
          "text": [
            "Enter a string: strong\n",
            "stronger\n"
          ]
        }
      ]
    },
    {
      "cell_type": "code",
      "source": [
        "#task 5\n",
        "user = input(\"Enter a string: \")\n",
        "for row in range(len(user)):\n",
        "  for column in range(row+1):\n",
        "    print(user[column],end=\"\")\n",
        "  print()"
      ],
      "metadata": {
        "colab": {
          "base_uri": "https://localhost:8080/"
        },
        "id": "I0yfgWKnLUTl",
        "outputId": "34f2f504-b941-4443-ee3c-6185e9f7163b"
      },
      "execution_count": null,
      "outputs": [
        {
          "output_type": "stream",
          "name": "stdout",
          "text": [
            "Enter a string: BANGLA\n",
            "B\n",
            "BA\n",
            "BAN\n",
            "BANG\n",
            "BANGL\n",
            "BANGLA\n"
          ]
        }
      ]
    },
    {
      "cell_type": "code",
      "source": [
        "#task 6\n",
        "user = input(\"Enter a string: \")\n",
        "for count in range(0,len(user)):\n",
        "  print(user[count],\":\",ord(user[count]))"
      ],
      "metadata": {
        "colab": {
          "base_uri": "https://localhost:8080/"
        },
        "id": "Uip5-yu4NyKW",
        "outputId": "141717ff-a244-4e40-bbae-fb6519028348"
      },
      "execution_count": null,
      "outputs": [
        {
          "output_type": "stream",
          "name": "stdout",
          "text": [
            "Enter a string: Programming\n",
            "P : 80\n",
            "r : 114\n",
            "o : 111\n",
            "g : 103\n",
            "r : 114\n",
            "a : 97\n",
            "m : 109\n",
            "m : 109\n",
            "i : 105\n",
            "n : 110\n",
            "g : 103\n"
          ]
        }
      ]
    },
    {
      "cell_type": "code",
      "source": [
        "#task 7\n",
        "user = input(\"Enter a string: \")\n",
        "for i in user:\n",
        "  n1 = ord(i)\n",
        "  n2 = chr(n1+1)\n",
        "  if n1 == \"122\":\n",
        "    print(\"user\",end=\"\")\n",
        "  else:\n",
        "    print(n2,end=\"\")"
      ],
      "metadata": {
        "colab": {
          "base_uri": "https://localhost:8080/"
        },
        "id": "qjIe-3vvQAz2",
        "outputId": "2d3eec52-1937-4942-baff-38d9d09cf7d4"
      },
      "execution_count": null,
      "outputs": [
        {
          "output_type": "stream",
          "name": "stdout",
          "text": [
            "Enter a string: the cow\n",
            "uif!dpx"
          ]
        }
      ]
    },
    {
      "cell_type": "code",
      "source": [
        "#task 7\n",
        "user = input()\n",
        "for count in user:\n",
        "  if count ==\"z\":\n",
        "    print(\"a\",end=\"\")\n",
        "  else:\n",
        "    print(chr(ord(count)+1),end=\"\")"
      ],
      "metadata": {
        "colab": {
          "base_uri": "https://localhost:8080/"
        },
        "id": "uub7tlBiXtyv",
        "outputId": "0b6ec8d1-707a-4163-c4c9-9f60a0a4dadc"
      },
      "execution_count": null,
      "outputs": [
        {
          "output_type": "stream",
          "name": "stdout",
          "text": [
            "the cow\n",
            "uif!dpx"
          ]
        }
      ]
    },
    {
      "cell_type": "code",
      "source": [
        "#task 8\n",
        "user = input(\"Enter a string: \")\n",
        "str1 = \"\"\n",
        "for count in range(len(user)):\n",
        "  if count%2!=0:\n",
        "    str1 = str1+user[count]\n",
        "str2 = \"\"\n",
        "for count1 in str1:\n",
        "  str2 = str2 + chr(ord(count1)-32)\n",
        "print(str2)\n"
      ],
      "metadata": {
        "colab": {
          "base_uri": "https://localhost:8080/"
        },
        "id": "JLw83_89VjWC",
        "outputId": "cdfab4e8-2af8-461e-a6cc-b00b8f64a91c"
      },
      "execution_count": null,
      "outputs": [
        {
          "output_type": "stream",
          "name": "stdout",
          "text": [
            "Enter a string: String\n",
            "TIG\n"
          ]
        }
      ]
    },
    {
      "cell_type": "code",
      "source": [
        "word = input()\n",
        "a = \"\"\n",
        "for i in range(len(word)):\n",
        "  if i%2!=0:\n",
        "    a += word[i]\n",
        "b = \"\"\n",
        "for j in a:\n",
        "  b = b + chr(ord(j)-32)\n",
        "print(b)\n",
        ""
      ],
      "metadata": {
        "colab": {
          "base_uri": "https://localhost:8080/"
        },
        "id": "KRpQ_Z3EZeNO",
        "outputId": "2f6b9c61-c5a0-44fc-8fb7-12c8a0982bf7"
      },
      "execution_count": null,
      "outputs": [
        {
          "output_type": "stream",
          "name": "stdout",
          "text": [
            "string\n",
            "TIG\n"
          ]
        }
      ]
    },
    {
      "cell_type": "code",
      "source": [
        "#task 9\n",
        "string1 = input()\n",
        "checker = string1[0]\n",
        "result = string1[0]\n",
        "for index in range(1,len(string1)):\n",
        "  if string1[index] == checker:\n",
        "    continue\n",
        "  else:\n",
        "    result = result + string1[index]\n",
        "    checker = string1[index]\n",
        "print(result)"
      ],
      "metadata": {
        "colab": {
          "base_uri": "https://localhost:8080/"
        },
        "id": "5yeDLh-EZdO-",
        "outputId": "c3b8cb1d-b176-4a04-9567-bec548503ed7"
      },
      "execution_count": null,
      "outputs": [
        {
          "output_type": "stream",
          "name": "stdout",
          "text": [
            "AAABBBBCDDBBECE\n",
            "ABCDBECE\n"
          ]
        }
      ]
    },
    {
      "cell_type": "code",
      "source": [
        "#task 9\n",
        "word = input()\n",
        "check = word[0]\n",
        "result = word[0]\n",
        "for i in range(1,len(word)):\n",
        "  if word[i] == check:\n",
        "    continue\n",
        "  else:\n",
        "    result += word[i]\n",
        "    check = word[i]\n",
        "print(result)"
      ],
      "metadata": {
        "colab": {
          "base_uri": "https://localhost:8080/"
        },
        "id": "fV-xVYOIgTz_",
        "outputId": "9bed7f75-4c30-445b-9493-23ef8c3428ac"
      },
      "execution_count": null,
      "outputs": [
        {
          "output_type": "stream",
          "name": "stdout",
          "text": [
            "AAABBBBCDDBBECE\n",
            "ABCDBECE\n"
          ]
        }
      ]
    },
    {
      "cell_type": "code",
      "source": [
        "#task 10\n",
        "string = input()\n",
        "space = -1\n",
        "for i in range(len(string)):\n",
        "  if string[i] == \" \":\n",
        "    space = i\n",
        "    break\n",
        "string1 = string[:space-1]\n",
        "string2 = string[space+1:]\n",
        "if len(string1) > len(string2):\n",
        "  long_string = string1\n",
        "  short_string = string2\n",
        "else:\n",
        "  long_string = string2\n",
        "  short_string = string1\n",
        "result=\"\"\n",
        "for i in range(len(short_string)):\n",
        "  result += (string1[i]+string2[i])\n",
        "result = result + long_string[len(short_string):]\n",
        "print(result)"
      ],
      "metadata": {
        "id": "SoMLTqxqjC8y",
        "colab": {
          "base_uri": "https://localhost:8080/"
        },
        "outputId": "cda29f86-d0e1-4099-86bb-0161e00fefee"
      },
      "execution_count": null,
      "outputs": [
        {
          "output_type": "stream",
          "name": "stdout",
          "text": [
            "ABCDEFGHIJKL, efgh\n",
            "AeBfCgDhEFGHIJKL\n"
          ]
        }
      ]
    },
    {
      "cell_type": "code",
      "source": [
        "#task 10\n",
        "user = input()\n",
        "index = 0\n",
        "for i in range(len(user)):\n",
        "  if user[i] == \",\":\n",
        "    index = i\n",
        "    break\n",
        "\n",
        "string1 = user[0:index]\n",
        "string2 = user[index+2:]\n",
        "if len(string1)<len(string2):\n",
        "  small = string1\n",
        "elif len(string2)<len(string1):\n",
        "  small = string2\n",
        "else:\n",
        "  small = string2\n",
        "\n",
        "res = \"\"\n",
        "for j in range(len(small)):\n",
        "  res = res + string1[j]+string2[j]\n",
        "\n",
        "if len(string1)<len(string2):\n",
        "  final = res + string2[len(small):]\n",
        "else:\n",
        "  final = res + string1[len(small):]\n",
        "print(final)\n"
      ],
      "metadata": {
        "colab": {
          "base_uri": "https://localhost:8080/"
        },
        "id": "rYNZy8esWq1S",
        "outputId": "98550559-1a72-49bb-936c-5659479c59d4"
      },
      "execution_count": null,
      "outputs": [
        {
          "output_type": "stream",
          "name": "stdout",
          "text": [
            "ABCD, efghijkl\n",
            "AeBfCgDhijkl\n"
          ]
        }
      ]
    },
    {
      "cell_type": "code",
      "source": [
        "user = input()\n",
        "for i in user:\n",
        "  if i == \"z\":\n",
        "    print(\"a\",end=\"\")\n",
        "  else:\n",
        "    print(chr(ord(i)+1),end=\"\")\n",
        "\n"
      ],
      "metadata": {
        "colab": {
          "base_uri": "https://localhost:8080/"
        },
        "id": "oSSnu972iWqt",
        "outputId": "6527dc05-f9ee-4add-dab7-91aa424a6855"
      },
      "execution_count": null,
      "outputs": [
        {
          "output_type": "stream",
          "name": "stdout",
          "text": [
            "abcdefghijkl\n",
            "bcdefghijklm"
          ]
        }
      ]
    },
    {
      "cell_type": "code",
      "source": [
        "user = int(input(\"Enter your desired number: \"))\n",
        "num = 1\n",
        "count = 0\n",
        "for i in range(user):\n",
        "  if i == user-1:\n",
        "    print(num)\n",
        "  else:\n",
        "    print(num,\"+\",end=\"\")\n",
        "  count = count + num\n",
        "  num = (num*10)+1\n",
        "\n",
        "print(\"The sum is: \",count)"
      ],
      "metadata": {
        "colab": {
          "base_uri": "https://localhost:8080/"
        },
        "id": "ga7mGhprniUV",
        "outputId": "80fe07ff-e82e-489f-e9d4-846b880d0d2a"
      },
      "execution_count": null,
      "outputs": [
        {
          "output_type": "stream",
          "name": "stdout",
          "text": [
            "Enter your desired number: 5\n",
            "1 +11 +111 +1111 +11111\n",
            "The sum is:  12345\n"
          ]
        }
      ]
    }
  ]
}