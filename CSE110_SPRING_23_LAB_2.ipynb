{
  "nbformat": 4,
  "nbformat_minor": 0,
  "metadata": {
    "colab": {
      "provenance": [],
      "authorship_tag": "ABX9TyNXfogti9ZkvL5mzolydl1X",
      "include_colab_link": true
    },
    "kernelspec": {
      "name": "python3",
      "display_name": "Python 3"
    },
    "language_info": {
      "name": "python"
    }
  },
  "cells": [
    {
      "cell_type": "markdown",
      "metadata": {
        "id": "view-in-github",
        "colab_type": "text"
      },
      "source": [
        "<a href=\"https://colab.research.google.com/github/nibear01/CSE110/blob/main/CSE110_SPRING_23_LAB_2.ipynb\" target=\"_parent\"><img src=\"https://colab.research.google.com/assets/colab-badge.svg\" alt=\"Open In Colab\"/></a>"
      ]
    },
    {
      "cell_type": "code",
      "execution_count": null,
      "metadata": {
        "colab": {
          "base_uri": "https://localhost:8080/"
        },
        "id": "IdanBrWJ84Bj",
        "outputId": "587aa6ac-bae4-443d-bb4e-5702d5423325"
      },
      "outputs": [
        {
          "output_type": "stream",
          "name": "stdout",
          "text": [
            "Enter your first number: 4\n",
            "Enter your second number: 5\n",
            "Sum = 9\n",
            "Product = 20\n",
            "Difference = -1\n"
          ]
        }
      ],
      "source": [
        "#task 1\n",
        "\n",
        "num1 = int(input(\"Enter your first number: \"))\n",
        "num2 = int(input(\"Enter your second number: \"))\n",
        "\n",
        "sum = num1 + num2\n",
        "product = num1*num2\n",
        "difference = num1 - num2\n",
        "\n",
        "print(\"Sum =\",sum)\n",
        "print(\"Product =\",product)\n",
        "print(\"Difference =\",difference)"
      ]
    },
    {
      "cell_type": "code",
      "source": [
        "#task 2\n",
        "\n",
        "radius = int(input(\"Enter your radius: \"))\n",
        "\n",
        "import math\n",
        "\n",
        "area = math.pi*radius**2\n",
        "circum = 2*math.pi*radius**2\n",
        "\n",
        "print(\"Area is \",area)\n",
        "print(\"Circumference is \",circum)"
      ],
      "metadata": {
        "colab": {
          "base_uri": "https://localhost:8080/"
        },
        "id": "FJuZIQdh-GTm",
        "outputId": "1838f8f0-076c-45be-a89c-52b753e94e88"
      },
      "execution_count": null,
      "outputs": [
        {
          "output_type": "stream",
          "name": "stdout",
          "text": [
            "Enter your radius: 4\n",
            "Area is  50.26548245743669\n",
            "Circumference is  100.53096491487338\n"
          ]
        }
      ]
    },
    {
      "cell_type": "code",
      "source": [
        "#task 3\n",
        "\n",
        "num1 = int(input(\"Enter your first number: \"))\n",
        "num2 = int(input(\"Enter your second number: \"))\n",
        "\n",
        "if num1>num2:\n",
        "  print(\"First is greater\")\n",
        "elif num2>num1:\n",
        "  print(\"Second is greater\")\n",
        "else:\n",
        "  print(\"The numbers are equal\")"
      ],
      "metadata": {
        "colab": {
          "base_uri": "https://localhost:8080/"
        },
        "id": "KFlWQr7m-w8d",
        "outputId": "36aca1ee-de3f-4dd0-f442-ccd5eedb63da"
      },
      "execution_count": null,
      "outputs": [
        {
          "output_type": "stream",
          "name": "stdout",
          "text": [
            "Enter your first number: 7\n",
            "Enter your second number: 3\n",
            "First is greater\n"
          ]
        }
      ]
    },
    {
      "cell_type": "code",
      "source": [
        "#task 4\n",
        "\n",
        "num1 = int(input(\"Enter your first number: \"))\n",
        "num2 = int(input(\"Enter your second number: \"))\n",
        "\n",
        "if num1>num2:\n",
        "  print(num2-num1)\n",
        "elif num2>num1:\n",
        "  print(num1-num2)\n",
        "else:\n",
        "  print(num1-num2)\n"
      ],
      "metadata": {
        "colab": {
          "base_uri": "https://localhost:8080/"
        },
        "id": "Cb0NF777_ZeE",
        "outputId": "3b73e994-c0b8-4b29-f56f-21f9dbaca567"
      },
      "execution_count": null,
      "outputs": [
        {
          "output_type": "stream",
          "name": "stdout",
          "text": [
            "Enter your first number: 5\n",
            "Enter your second number: 5\n",
            "0\n"
          ]
        }
      ]
    },
    {
      "cell_type": "code",
      "source": [
        "#task 5\n",
        "\n",
        "num = int(input(\"Enter your number: \"))\n",
        "\n",
        "if num%2 == 0:\n",
        "  print(\"The number is even\")\n",
        "else:\n",
        "  print(\"The number is odd\")"
      ],
      "metadata": {
        "colab": {
          "base_uri": "https://localhost:8080/"
        },
        "id": "8AzxmmGbBgCi",
        "outputId": "091cc9f8-e1d5-4d58-9f3d-491b96814ed1"
      },
      "execution_count": null,
      "outputs": [
        {
          "output_type": "stream",
          "name": "stdout",
          "text": [
            "Enter your number: 7\n",
            "The number is odd\n"
          ]
        }
      ]
    },
    {
      "cell_type": "code",
      "source": [
        "#task 6\n",
        "\n",
        "num = int(input(\"Enter your number: \"))\n",
        "\n",
        "if num%2 == 0 or num%5 == 0:\n",
        "  print(num)\n",
        "else:\n",
        "  print(\"Not a multiple of 2 OR 5\")"
      ],
      "metadata": {
        "colab": {
          "base_uri": "https://localhost:8080/"
        },
        "id": "GztwxewtCpsi",
        "outputId": "c7fe6cc9-7e2a-4357-bfbc-4c988fb3fc97"
      },
      "execution_count": null,
      "outputs": [
        {
          "output_type": "stream",
          "name": "stdout",
          "text": [
            "Enter your number: 5\n",
            "5\n"
          ]
        }
      ]
    },
    {
      "cell_type": "code",
      "source": [
        "#task 7\n",
        "\n",
        "num = int(input(\"Enter your number: \"))\n",
        "\n",
        "if num%2 == 0 and num%5 == 0:\n",
        "  print(\"Multiple of 2 and 5 both\")\n",
        "elif num%2 == 0 or num%5 == 0:\n",
        "  print(num)\n",
        "else:\n",
        "  print(\"Not a multiple we want\")"
      ],
      "metadata": {
        "colab": {
          "base_uri": "https://localhost:8080/"
        },
        "id": "1c4AYPM7ECxh",
        "outputId": "cbebe269-7feb-4e07-b5f8-f90b5c4c67d1"
      },
      "execution_count": null,
      "outputs": [
        {
          "output_type": "stream",
          "name": "stdout",
          "text": [
            "Enter your number: 10\n",
            "Multiple of 2 and 5 both\n"
          ]
        }
      ]
    },
    {
      "cell_type": "code",
      "source": [
        "#task 8\n",
        "\n",
        "num = (input(\"Enter your number: \"))\n",
        "num1 =int(num)\n",
        "if num1%2 == 0 and num1%5 == 0:\n",
        "  print(num1)\n",
        "else:\n",
        "  print(\"Not multiple of 2 and 5 both\")\n"
      ],
      "metadata": {
        "colab": {
          "base_uri": "https://localhost:8080/"
        },
        "id": "17LoPSItFvvB",
        "outputId": "2f783089-74b1-4d74-bc72-64ac6f5d27b3"
      },
      "execution_count": null,
      "outputs": [
        {
          "output_type": "stream",
          "name": "stdout",
          "text": [
            "Enter your number: 4\n",
            "Not multiple of 2 and 5 both\n"
          ]
        }
      ]
    },
    {
      "cell_type": "code",
      "source": [
        "#task 9\n",
        "\n",
        "seconds = int(input(\"Enter seconds: \"))\n",
        "\n",
        "hours = seconds//3600\n",
        "remain_hour = seconds%3600\n",
        "min = remain_hour//60\n",
        "sec = remain_hour%60\n",
        "\n",
        "print(\"Hours: {} Minutes: {} Seconds: {}\".format(hours,min,sec) )"
      ],
      "metadata": {
        "colab": {
          "base_uri": "https://localhost:8080/"
        },
        "id": "RUGt8QdIGuPQ",
        "outputId": "f3f0aebf-c681-4917-afe8-93394aef2d27"
      },
      "execution_count": null,
      "outputs": [
        {
          "output_type": "stream",
          "name": "stdout",
          "text": [
            "Enter seconds: 10000\n",
            "Hours: 2 Minutes: 46 Seconds: 40\n"
          ]
        }
      ]
    },
    {
      "cell_type": "code",
      "source": [
        "#task 10\n",
        "\n",
        "hour = int(input(\"Enter worked hours: \"))\n",
        "\n",
        "if hour<0:\n",
        "  print(\"Hour cannot be negative\")\n",
        "elif hour>168:\n",
        "  print(\"Impossible to work more than 168 hours weekly\")\n",
        "elif hour>40:\n",
        "  print(8000+(hour-40)*300)\n",
        "else:\n",
        "  print(hour*200)\n"
      ],
      "metadata": {
        "colab": {
          "base_uri": "https://localhost:8080/"
        },
        "id": "GWiQ4G9OH-do",
        "outputId": "7eae66ad-f116-4dd8-e953-f3c605406f37"
      },
      "execution_count": null,
      "outputs": [
        {
          "output_type": "stream",
          "name": "stdout",
          "text": [
            "Enter worked hours: 41\n",
            "8300\n"
          ]
        }
      ]
    },
    {
      "cell_type": "code",
      "source": [
        "#task 10(2)\n",
        "\n",
        "hour = int(input(\"Enter worked hours: \"))\n",
        "\n",
        "if 0<=hour<=168:\n",
        "  if hour<=40:\n",
        "    print(hour*200)\n",
        "  else:\n",
        "    print(8000+(hour-40)*300)\n",
        "else:\n",
        "  if hour<0:\n",
        "    print(\"Hours cannot be negative\")\n",
        "  else:\n",
        "    print(\"Impossible to work more than 168 hours weekly\")\n",
        "\n",
        "\n"
      ],
      "metadata": {
        "colab": {
          "base_uri": "https://localhost:8080/"
        },
        "id": "rPIyyDg4ZB8X",
        "outputId": "73a0f26b-390b-4b4d-8233-b674346bf245"
      },
      "execution_count": null,
      "outputs": [
        {
          "output_type": "stream",
          "name": "stdout",
          "text": [
            "Enter worked hours: 169\n",
            "Impossible to work more than 168 hours weekly\n"
          ]
        }
      ]
    },
    {
      "cell_type": "code",
      "source": [
        "#task 11\n",
        "\n",
        "s =int(input(\"Enter value of s: \"))\n",
        "\n",
        "if s<100:\n",
        "  print(3000-125*s**2)\n",
        "else:\n",
        "  l = 12000 / (4 + (s ** 2)/14900)\n",
        "  print(l)"
      ],
      "metadata": {
        "colab": {
          "base_uri": "https://localhost:8080/"
        },
        "id": "kFpHJDvsI3ll",
        "outputId": "f9e7a2c0-0499-4762-b9b8-20ad6240bb53"
      },
      "execution_count": null,
      "outputs": [
        {
          "output_type": "stream",
          "name": "stdout",
          "text": [
            "Enter value of s: 120\n",
            "2416.2162162162163\n"
          ]
        }
      ]
    },
    {
      "cell_type": "code",
      "source": [
        "#task 12\n",
        "\n",
        "hour = int(input(\"Enter your hour: \"))\n",
        "\n",
        "if 0<=hour<=23:\n",
        "  if 4 <=hour<=6:\n",
        "    print(\"Breakfast\")\n",
        "  elif 12<=hour<=13:\n",
        "    print(\"Lunch\")\n",
        "  elif 16<=hour<=17:\n",
        "    print(\"snacks\")\n",
        "  elif 19<=hour<=20:\n",
        "    print(\"Dinner\")\n",
        "  else:\n",
        "    print(\"Paitence is virtue\")\n",
        "else:\n",
        "  print(\"Wrong time\")"
      ],
      "metadata": {
        "colab": {
          "base_uri": "https://localhost:8080/"
        },
        "id": "48KXfPQNMDXa",
        "outputId": "23d3a263-323f-4ffe-f150-3af4187c04a5"
      },
      "execution_count": null,
      "outputs": [
        {
          "output_type": "stream",
          "name": "stdout",
          "text": [
            "Enter your hour: 19\n",
            "Dinner\n"
          ]
        }
      ]
    },
    {
      "cell_type": "code",
      "source": [
        "#task 13\n",
        "\n",
        "marks = int(input(\"Enter your marks: \"))\n",
        "\n",
        "if 0<=marks<=100:\n",
        "  if 0<=marks<50:\n",
        "    print(\"F\")\n",
        "  elif 50<=marks<60:\n",
        "    print(\"E\")\n",
        "  elif 60<=marks<70:\n",
        "    print(\"D\")\n",
        "  elif 70<=marks<80:\n",
        "    print(\"C\")\n",
        "  elif 80<=marks<90:\n",
        "    print(\"B\")\n",
        "  else:\n",
        "    print(\"A\")\n",
        "else:\n",
        "  print(\"Mark is invalid\")"
      ],
      "metadata": {
        "colab": {
          "base_uri": "https://localhost:8080/"
        },
        "id": "nax6Ro_LO6Qa",
        "outputId": "dc4988ad-9597-41d8-fe8e-61504b51d5e4"
      },
      "execution_count": null,
      "outputs": [
        {
          "output_type": "stream",
          "name": "stdout",
          "text": [
            "Enter your marks: 90\n",
            "A\n"
          ]
        }
      ]
    },
    {
      "cell_type": "code",
      "source": [
        "#task 14\n",
        "\n",
        "dis = int(input(\"Distance in meters: \"))\n",
        "tim = int(input(\"Time in seconds: \"))\n",
        "\n",
        "distance = dis/1000\n",
        "time = tim/3600\n",
        "\n",
        "velocity = distance/time\n",
        "print(velocity)\n",
        "\n",
        "if 0<=velocity<60:\n",
        "  print(\"Too slow. Needs more changes.\")\n",
        "elif 60<=velocity<=90:\n",
        "  print(\"Velocity is okay. The car is ready!\")\n",
        "else:\n",
        "  print(\"Too fast. Only a few changes should suffice.\")\n"
      ],
      "metadata": {
        "colab": {
          "base_uri": "https://localhost:8080/"
        },
        "id": "tGEfq6owSAAS",
        "outputId": "13766fbc-019e-4f86-d4dc-3e6641c5cf41"
      },
      "execution_count": null,
      "outputs": [
        {
          "output_type": "stream",
          "name": "stdout",
          "text": [
            "Distance in meters: 160000\n",
            "Time in seconds: 7200\n",
            "80.0\n",
            "Velocity is okay. The car is ready!\n"
          ]
        }
      ]
    },
    {
      "cell_type": "code",
      "source": [
        "#task 15\n",
        "\n",
        "cgpa = float(input(\"Enter your cgpa: \"))\n",
        "credit = int(input(\"Enter your credit: \"))\n",
        "\n",
        "if 3.80<=cgpa<=4.00 and credit>=30:\n",
        "  if 3.80<=cgpa<=3.89:\n",
        "    print(\"The student is eligible for a waiver of 25 percent.\")\n",
        "  elif 3.90<=cgpa<=3.94:\n",
        "    print(\"The student is eligible for a waiver of 50 percent.\")\n",
        "  elif 3.95<=cgpa<=3.99:\n",
        "    print(\"The student is eligible for a waiver of 75 percent.\")\n",
        "  else:\n",
        "    print(\"The student is eligible for a waiver of 100 percent.\")\n",
        "else:\n",
        "  print(\"The student is not eligible for a waiver.\")\n"
      ],
      "metadata": {
        "colab": {
          "base_uri": "https://localhost:8080/"
        },
        "id": "v6nR5IbqUtVk",
        "outputId": "d50a2224-9f92-4a45-a139-27a0f7af06dc"
      },
      "execution_count": null,
      "outputs": [
        {
          "output_type": "stream",
          "name": "stdout",
          "text": [
            "Enter your cgpa: 3.93\n",
            "Enter your credit: 78\n",
            "The student is eligible for a waiver of 50 percent.\n"
          ]
        }
      ]
    }
  ]
}