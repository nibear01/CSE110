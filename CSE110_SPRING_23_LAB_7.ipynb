{
  "nbformat": 4,
  "nbformat_minor": 0,
  "metadata": {
    "colab": {
      "provenance": [],
      "authorship_tag": "ABX9TyPfZ1GppFGARsSO6GaPrsSA"
    },
    "kernelspec": {
      "name": "python3",
      "display_name": "Python 3"
    },
    "language_info": {
      "name": "python"
    }
  },
  "cells": [
    {
      "cell_type": "code",
      "execution_count": null,
      "metadata": {
        "colab": {
          "base_uri": "https://localhost:8080/"
        },
        "id": "yjvBEN4_iZfq",
        "outputId": "b7e28582-b519-4ac6-e95e-4d1a897c62a7"
      },
      "outputs": [
        {
          "output_type": "stream",
          "name": "stdout",
          "text": [
            "5\n",
            "Odd!!\n"
          ]
        }
      ],
      "source": [
        "#task 1\n",
        "user = int(input())\n",
        "\n",
        "def even_checker(num):\n",
        "  if num%2 == 0:\n",
        "    print(\"Even!!\")\n",
        "  else:\n",
        "    print(\"Odd!!\")\n",
        "\n",
        "even_checker(user)"
      ]
    },
    {
      "cell_type": "code",
      "source": [
        "#task 2\n",
        "def fibonacci(num):\n",
        "  num1 = 0\n",
        "  num2 = 1\n",
        "  sum = 0\n",
        "  for i in range(0,num+1):\n",
        "    if sum>num:\n",
        "      break\n",
        "    else:\n",
        "      print(sum,end = \" \")\n",
        "      num1 = num2\n",
        "      num2 = sum\n",
        "      sum = num1 + num2\n",
        "user = int(input())\n",
        "fibonacci(user)"
      ],
      "metadata": {
        "colab": {
          "base_uri": "https://localhost:8080/"
        },
        "id": "u4BF3-f3jKn7",
        "outputId": "6080e565-ebe1-4ddb-af8f-81b1c1bcd15e"
      },
      "execution_count": null,
      "outputs": [
        {
          "output_type": "stream",
          "name": "stdout",
          "text": [
            "10\n",
            "0 1 1 2 3 5 8 "
          ]
        }
      ]
    },
    {
      "cell_type": "code",
      "source": [
        "#task 3\n",
        "user = int(input())\n",
        "\n",
        "def foo_moo(num):\n",
        "  if num%2 == 0:\n",
        "    print(\"Foo\")\n",
        "  elif num%3 == 0:\n",
        "    print(\"Moo\")\n",
        "  elif num%2 == 0 and num%3 == 0:\n",
        "    print(\"FooMoo\")\n",
        "  else:\n",
        "    print(\"Boo\")\n",
        "foo_moo(user)"
      ],
      "metadata": {
        "colab": {
          "base_uri": "https://localhost:8080/"
        },
        "id": "mvpXH8v8lc3O",
        "outputId": "4be6c0b2-98a0-4150-9d62-8d1908106e81"
      },
      "execution_count": null,
      "outputs": [
        {
          "output_type": "stream",
          "name": "stdout",
          "text": [
            "5\n",
            "Boo\n"
          ]
        }
      ]
    },
    {
      "cell_type": "code",
      "source": [
        "user = int(input())\n",
        "\n",
        "def foo_moo(num):\n",
        "  if num%2 == 0:\n",
        "    return \"Foo\"\n",
        "  elif num%3 == 0:\n",
        "    return \"Moo\"\n",
        "  elif num%2 == 0 and num%3 == 0:\n",
        "    return \"FooMoo\"\n",
        "  else:\n",
        "    return \"Boo\"\n",
        "print(foo_moo(user))"
      ],
      "metadata": {
        "colab": {
          "base_uri": "https://localhost:8080/"
        },
        "id": "In7Sdi_0nwLY",
        "outputId": "e07f1ba3-8eb6-498e-b912-eae483dbaa7d"
      },
      "execution_count": null,
      "outputs": [
        {
          "output_type": "stream",
          "name": "stdout",
          "text": [
            "5\n",
            "Boo\n"
          ]
        }
      ]
    },
    {
      "cell_type": "code",
      "source": [
        "#task 4\n",
        "user = input()\n",
        "\n",
        "def function_name(words):\n",
        "  upper_case = 0\n",
        "  lower_case = 0\n",
        "  for i in words:\n",
        "    if 65<= ord(i) <= 90:\n",
        "      upper_case += 1\n",
        "    elif 97<= ord(i) <=122:\n",
        "      lower_case += 1\n",
        "  print(\"No. of Uppercase characters :\",upper_case)\n",
        "  print(\"No. of Lowercase characters :\",lower_case)\n",
        "function_name(user)"
      ],
      "metadata": {
        "colab": {
          "base_uri": "https://localhost:8080/"
        },
        "id": "VUnklvGmmYtT",
        "outputId": "1776e4c2-e97f-4a0d-fd58-99daa3596cc1"
      },
      "execution_count": null,
      "outputs": [
        {
          "output_type": "stream",
          "name": "stdout",
          "text": [
            "The quick Sand Man\n",
            "No. of Uppercase characters : 3\n",
            "No. of Lowercase characters : 12\n"
          ]
        }
      ]
    },
    {
      "cell_type": "code",
      "source": [
        "#task 5\n",
        "age = int(input(\"Enter age: \"))\n",
        "salary = int(input(\"Enter salary: \"))\n",
        "job = input(\"Enter job: \")\n",
        "\n",
        "def calculate_tax(a,b,c):\n",
        "  tax = 0\n",
        "  if c == \"president\" or c == \"PRESIDENT\":\n",
        "    tax = 0\n",
        "    print(tax)\n",
        "  elif a<18:\n",
        "    tax = 0\n",
        "    print(\"tax\")\n",
        "  elif b<10000:\n",
        "    tax = 0\n",
        "    print(\"tax\")\n",
        "  elif 10000<= b <= 20000:\n",
        "    tax = b*0.05\n",
        "    print(tax)\n",
        "  elif b> 20000:\n",
        "    tax = b*0.10\n",
        "    print(tax)\n",
        "calculate_tax(age,salary,job)"
      ],
      "metadata": {
        "colab": {
          "base_uri": "https://localhost:8080/"
        },
        "id": "weI--Lg3nWPR",
        "outputId": "ab079ac5-9ec3-4db9-e876-a986b584175e"
      },
      "execution_count": null,
      "outputs": [
        {
          "output_type": "stream",
          "name": "stdout",
          "text": [
            "Enter age: 35\n",
            "Enter salary: 12220000\n",
            "Enter job: president\n",
            "0\n"
          ]
        }
      ]
    },
    {
      "cell_type": "code",
      "source": [
        "age = int(input(\"Enter age: \"))\n",
        "salary = int(input(\"Enter salary: \"))\n",
        "job = input(\"Enter job: \")\n",
        "\n",
        "def calculate_tax(a,b,c):\n",
        "  tax = 0\n",
        "  if c == \"president\" or c == \"PRESIDENT\":\n",
        "    tax = 0\n",
        "    return tax\n",
        "  elif a<18:\n",
        "    tax = 0\n",
        "    return tax\n",
        "  elif b<10000:\n",
        "    tax = 0\n",
        "    return tax\n",
        "  elif 10000<= b <= 20000:\n",
        "    tax = b*0.05\n",
        "    return tax\n",
        "  elif b> 20000:\n",
        "    tax = b*0.10\n",
        "    return tax\n",
        "print(calculate_tax(age,salary,job))"
      ],
      "metadata": {
        "colab": {
          "base_uri": "https://localhost:8080/"
        },
        "id": "JnMZ_-51uriY",
        "outputId": "a2cfa245-5fbf-40d6-c676-68f8cff70154"
      },
      "execution_count": null,
      "outputs": [
        {
          "output_type": "stream",
          "name": "stdout",
          "text": [
            "Enter age: 20\n",
            "Enter salary: 18000\n",
            "Enter job: student\n",
            "900.0\n"
          ]
        }
      ]
    },
    {
      "cell_type": "code",
      "source": [
        "#task 6\n",
        "user = int(input())\n",
        "\n",
        "def function_name(days):\n",
        "  year1 = 365\n",
        "  month1 = 30\n",
        "\n",
        "  year = days//year1\n",
        "  remain_year = days%year1\n",
        "  month = remain_year//month1\n",
        "  remain_days = remain_year%month1\n",
        "  print(\"{} years, {} months and {} days\".format(year,month,remain_days))\n",
        "\n",
        "function_name(user)"
      ],
      "metadata": {
        "colab": {
          "base_uri": "https://localhost:8080/"
        },
        "id": "tI8j9mWprSlP",
        "outputId": "69416966-7b8e-407e-b490-85934257d052"
      },
      "execution_count": null,
      "outputs": [
        {
          "output_type": "stream",
          "name": "stdout",
          "text": [
            "4330\n",
            "11 years, 10 months and 15 days\n"
          ]
        }
      ]
    },
    {
      "cell_type": "code",
      "source": [
        "#task 7\n",
        "user = int(input())\n",
        "\n",
        "def show_palindrome(num):\n",
        "  emp_str = \"\"\n",
        "  for i in range(1,num):\n",
        "    emp_str += str(i)\n",
        "  rev_str = emp_str[::-1]\n",
        "  final = emp_str + str(num) + rev_str\n",
        "  return final\n",
        "print(show_palindrome(user))"
      ],
      "metadata": {
        "colab": {
          "base_uri": "https://localhost:8080/"
        },
        "id": "YSnmYYqAveHf",
        "outputId": "ed515076-e6e5-478c-add8-231dc4a5dee9"
      },
      "execution_count": null,
      "outputs": [
        {
          "output_type": "stream",
          "name": "stdout",
          "text": [
            "5\n",
            "123454321\n"
          ]
        }
      ]
    },
    {
      "cell_type": "code",
      "source": [
        "#task 7(another way)\n",
        "user = int(input())\n",
        "\n",
        "def show_palindrome(num):\n",
        "  new = ''\n",
        "  for i in range(1,num+1):\n",
        "    new += str(i)\n",
        "  final = new + new[-2:-len(new)-1:-1]\n",
        "  return final\n",
        "print(show_palindrome(user))"
      ],
      "metadata": {
        "colab": {
          "base_uri": "https://localhost:8080/"
        },
        "id": "22XByYEdx_9d",
        "outputId": "c473f1cd-0e0e-4b53-c749-636c9378a2a8"
      },
      "execution_count": null,
      "outputs": [
        {
          "output_type": "stream",
          "name": "stdout",
          "text": [
            "5\n",
            "123454321\n"
          ]
        }
      ]
    },
    {
      "cell_type": "code",
      "source": [
        "#task 8\n",
        "user = int(input())\n",
        "def show_palindrome_triangle(num):\n",
        "  for i in range(1,num+1):\n",
        "    print(\" \"*2*(num-i),end=\"\")\n",
        "    new=str(show_palindrome(i))\n",
        "    for j in new:\n",
        "      print(j,end=\" \")\n",
        "    print()\n",
        "show_palindrome_triangle(user)"
      ],
      "metadata": {
        "colab": {
          "base_uri": "https://localhost:8080/"
        },
        "id": "lBdUeQ_W1P0a",
        "outputId": "b1d673a6-7659-4213-d3d7-ff3a94885adb"
      },
      "execution_count": null,
      "outputs": [
        {
          "output_type": "stream",
          "name": "stdout",
          "text": [
            "5\n",
            "        1 \n",
            "      1 2 1 \n",
            "    1 2 3 2 1 \n",
            "  1 2 3 4 3 2 1 \n",
            "1 2 3 4 5 4 3 2 1 \n"
          ]
        }
      ]
    },
    {
      "cell_type": "code",
      "source": [
        "#task 8(alternate)\n",
        "def show_palindromic_triangle(num):\n",
        "  for i in range(0,num+1):\n",
        "    for j in range(i,num+1):\n",
        "      print(\" \",end=\" \")\n",
        "    for j in range(1,i+1):\n",
        "      print(j,end=\" \")\n",
        "    for j in range(i-1,0,-1):\n",
        "      print(j,end=\" \")\n",
        "    print()\n",
        "user = int(input())\n",
        "show_palindromic_triangle(user)"
      ],
      "metadata": {
        "id": "hmkpij_OymlZ",
        "colab": {
          "base_uri": "https://localhost:8080/"
        },
        "outputId": "e7d4b7a8-bde4-44c1-b749-511ea8d458ca"
      },
      "execution_count": null,
      "outputs": [
        {
          "output_type": "stream",
          "name": "stdout",
          "text": [
            "5\n",
            "            \n",
            "          1 \n",
            "        1 2 1 \n",
            "      1 2 3 2 1 \n",
            "    1 2 3 4 3 2 1 \n",
            "  1 2 3 4 5 4 3 2 1 \n"
          ]
        }
      ]
    },
    {
      "cell_type": "code",
      "source": [
        "#task 9(main)\n",
        "def area_circumference_generator(num):\n",
        "  import math\n",
        "  area = math.pi*user**2\n",
        "  circum = 2*math.pi*user\n",
        "  return area,circum\n",
        "user = float(input())\n",
        "tup = area_circumference_generator(user)\n",
        "area,circum = tup\n",
        "print(tup)\n",
        "print(\"Area of the circle is {} and circumference is {}\".format(area,circum))"
      ],
      "metadata": {
        "colab": {
          "base_uri": "https://localhost:8080/"
        },
        "id": "hi-D7Jti3cwE",
        "outputId": "c54f330b-26bb-4968-9619-4948592a58e9"
      },
      "execution_count": null,
      "outputs": [
        {
          "output_type": "stream",
          "name": "stdout",
          "text": [
            "1\n",
            "(3.141592653589793, 6.283185307179586)\n",
            "Area of the circle is 3.141592653589793 and circumference is 6.283185307179586\n"
          ]
        }
      ]
    },
    {
      "cell_type": "code",
      "source": [
        "#task 9\n",
        "user = float(input())\n",
        "\n",
        "def area_circumference_generator(num):\n",
        "  new = []\n",
        "  import math\n",
        "  area = math.pi*num**2\n",
        "  circumference = 2*math.pi*num\n",
        "  new.append(area)\n",
        "  new.append(circumference)\n",
        "  new = tuple(new)\n",
        "  print(new)\n",
        "  print(\"Area of the circle is {} and circumference is {}\".format(area,circumference))\n",
        "area_circumference_generator(user)"
      ],
      "metadata": {
        "colab": {
          "base_uri": "https://localhost:8080/"
        },
        "id": "a1afzrxUCpZq",
        "outputId": "09057edf-3d40-4df1-ddd7-67e6e00dea43"
      },
      "execution_count": null,
      "outputs": [
        {
          "output_type": "stream",
          "name": "stdout",
          "text": [
            "1\n",
            "(3.141592653589793, 6.283185307179586)\n",
            "Area of the circle is 3.141592653589793 and circumference is 6.283185307179586\n"
          ]
        }
      ]
    },
    {
      "cell_type": "code",
      "source": [
        "#task 10\n",
        "def make_square(tup):\n",
        "  dict1 = {}\n",
        "  for i in range(tup[0],tup[1]+1):\n",
        "    dict1[i] = i**2\n",
        "  return dict1\n",
        "\n",
        "make_square((1,3))"
      ],
      "metadata": {
        "id": "Hd8wCWOBE2w-",
        "colab": {
          "base_uri": "https://localhost:8080/"
        },
        "outputId": "3c317795-d68a-4b1d-abfa-58fe5b29efb8"
      },
      "execution_count": null,
      "outputs": [
        {
          "output_type": "execute_result",
          "data": {
            "text/plain": [
              "{1: 1, 2: 4, 3: 9}"
            ]
          },
          "metadata": {},
          "execution_count": 21
        }
      ]
    },
    {
      "cell_type": "code",
      "source": [
        "#task 11\n",
        "def rem_duplicate(tup):\n",
        "  list1=[]\n",
        "  for i in range(len(tup)):\n",
        "    if i==0:\n",
        "      list1.append(tup[i])\n",
        "    else:\n",
        "      if tup[i] in list1:\n",
        "        continue\n",
        "      else:\n",
        "        list1.append(tup[i])\n",
        "  a_tuple=tuple(list1)\n",
        "  return a_tuple\n",
        "x=rem_duplicate((1,1,1,2,3,4,5,6,6,6,6,4,0,0,0))\n",
        "print(x)"
      ],
      "metadata": {
        "id": "k5YUsdpR6BI6",
        "colab": {
          "base_uri": "https://localhost:8080/"
        },
        "outputId": "ea3e5222-3da9-4b77-9237-b7dd12b52bb5"
      },
      "execution_count": null,
      "outputs": [
        {
          "output_type": "stream",
          "name": "stdout",
          "text": [
            "(1, 2, 3, 4, 5, 6, 0)\n"
          ]
        }
      ]
    },
    {
      "cell_type": "code",
      "source": [
        "#task 12\n",
        "def list_max(list_1):\n",
        "  list_name=[]\n",
        "  removed=0\n",
        "  for i in list_1:\n",
        "    if list_name.count(i)<2:\n",
        "      list_name.append(i)\n",
        "    else:\n",
        "      removed+=1\n",
        "  print(\"Removed:\",removed)\n",
        "  return list_name\n",
        "list_max([1, 2, 3, 3, 3, 3, 4, 5, 8, 8])"
      ],
      "metadata": {
        "colab": {
          "base_uri": "https://localhost:8080/"
        },
        "id": "ZTkmO5cYuuS1",
        "outputId": "93e6a226-750a-482a-cade-b9e741da3e66"
      },
      "execution_count": null,
      "outputs": [
        {
          "output_type": "stream",
          "name": "stdout",
          "text": [
            "Removed: 2\n"
          ]
        },
        {
          "output_type": "execute_result",
          "data": {
            "text/plain": [
              "[1, 2, 3, 3, 4, 5, 8, 8]"
            ]
          },
          "metadata": {},
          "execution_count": 5
        }
      ]
    },
    {
      "cell_type": "code",
      "source": [
        "#task 13\n",
        "def operation(op,num1,num2):\n",
        "  if op=='\"+\"':\n",
        "    return num1+num2\n",
        "  elif op=='\"-\"':\n",
        "    return num1-num2\n",
        "  elif op=='\"*\"':\n",
        "    return num1*num2\n",
        "  elif op=='\"/\"':\n",
        "    return num1/num2\n",
        "o=input(\"Enter operator: \")\n",
        "n1=float(input(\"Enter num1: \"))\n",
        "n2=float(input(\"Enter num2: \"))\n",
        "x=operation(o,n1,n2)\n",
        "print(x)"
      ],
      "metadata": {
        "colab": {
          "base_uri": "https://localhost:8080/"
        },
        "id": "2y9wmETFv1XC",
        "outputId": "b82ae86f-9ca3-4fc5-fd23-9cfcaa5104e3"
      },
      "execution_count": null,
      "outputs": [
        {
          "output_type": "stream",
          "name": "stdout",
          "text": [
            "Enter operator: \"+\"\n",
            "Enter num1: 10\n",
            "Enter num2: 20\n",
            "30.0\n"
          ]
        }
      ]
    },
    {
      "cell_type": "code",
      "source": [
        "#task 14\n",
        "def func(s,p):\n",
        "  st=\"\"\n",
        "  nst=\"\"\n",
        "  for i in range(1,len(sen)):\n",
        "    if i%pos==0:\n",
        "      st+=sen[i]\n",
        "    else:\n",
        "      nst+=sen[i]\n",
        "  return sen[0]+nst+st\n",
        "sen=input(\"Enter a sentence: \")\n",
        "pos=int(input(\"Enter position: \"))\n",
        "print(func(sen,pos))"
      ],
      "metadata": {
        "colab": {
          "base_uri": "https://localhost:8080/"
        },
        "id": "xqtyTL9ezVPQ",
        "outputId": "ec06f9fe-2cf7-4453-bfc0-cc798259ab22"
      },
      "execution_count": null,
      "outputs": [
        {
          "output_type": "stream",
          "name": "stdout",
          "text": [
            "Enter a sentence: I love programming.\n",
            "Enter position: 3\n",
            "I lveprgrmmngo oai.\n"
          ]
        }
      ]
    },
    {
      "cell_type": "code",
      "source": [
        "#task 15\n",
        "def add_to_cart(product,location=\"Dhanmondi\"):\n",
        "  groceries={\"Rice\":105,\"Potato\":20,\"Chicken\":250,\"Beef\":510,\"Oil\":85}\n",
        "  sum=0\n",
        "  for i in product:\n",
        "    sum+=groceries[i]\n",
        "  if location==\"Dhanmondi\":\n",
        "    sum+=30\n",
        "  else:\n",
        "    sum+=70\n",
        "  return sum\n",
        "product=input(\"Enter items list: \")\n",
        "product=product[1:len(product)-1:]\n",
        "lst=product.split(\", \")\n",
        "nlst=[]\n",
        "for i in lst:\n",
        "  v=i[1:len(i)-1:]\n",
        "  nlst.append(v)\n",
        "print(add_to_cart(nlst,\"Mohakhali\"))"
      ],
      "metadata": {
        "colab": {
          "base_uri": "https://localhost:8080/"
        },
        "id": "Dz4Z80wF0WiV",
        "outputId": "9121bfda-9275-437f-91fd-c1b7dc256ade"
      },
      "execution_count": null,
      "outputs": [
        {
          "output_type": "stream",
          "name": "stdout",
          "text": [
            "Enter items list: [\"Rice\", \"Beef\", \"Rice\"]\n",
            "790\n"
          ]
        }
      ]
    }
  ]
}