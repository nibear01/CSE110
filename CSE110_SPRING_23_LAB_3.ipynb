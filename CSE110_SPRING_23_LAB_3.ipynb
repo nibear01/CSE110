{
  "nbformat": 4,
  "nbformat_minor": 0,
  "metadata": {
    "colab": {
      "provenance": [],
      "authorship_tag": "ABX9TyOGeCisrbEwScDa8IHMsuJz"
    },
    "kernelspec": {
      "name": "python3",
      "display_name": "Python 3"
    },
    "language_info": {
      "name": "python"
    }
  },
  "cells": [
    {
      "cell_type": "code",
      "source": [
        "#task 1(a)\n",
        "for count in range(24,-7,-6):\n",
        "  if count == -6:\n",
        "    print(count)\n",
        "  else:\n",
        "    print(count,end=\",\")"
      ],
      "metadata": {
        "colab": {
          "base_uri": "https://localhost:8080/"
        },
        "id": "wz_Ok4Ne_pgt",
        "outputId": "27e2c979-f986-478b-e495-fef09dcdaaf4"
      },
      "execution_count": null,
      "outputs": [
        {
          "output_type": "stream",
          "name": "stdout",
          "text": [
            "24,18,12,6,0,-6\n"
          ]
        }
      ]
    },
    {
      "cell_type": "code",
      "source": [
        "#task 1(b)\n",
        "for count in range(-10,21,5):\n",
        "  if count == 20:\n",
        "    print(count)\n",
        "  else:\n",
        "    print(count,end=\",\")"
      ],
      "metadata": {
        "colab": {
          "base_uri": "https://localhost:8080/"
        },
        "id": "uxTrOgRhDNIq",
        "outputId": "df027a53-f343-4c83-800a-e9bfce04af33"
      },
      "execution_count": null,
      "outputs": [
        {
          "output_type": "stream",
          "name": "stdout",
          "text": [
            "-10,-5,0,5,10,15,20\n"
          ]
        }
      ]
    },
    {
      "cell_type": "code",
      "source": [
        "#task 1(c)\n",
        "for count in range(18,64,9):\n",
        "  if count == 63:\n",
        "    print(count)\n",
        "  else:\n",
        "    print(count,end=\",\")"
      ],
      "metadata": {
        "colab": {
          "base_uri": "https://localhost:8080/"
        },
        "id": "xVHEj_QEDgNM",
        "outputId": "58ce8601-9fed-40de-93d8-66507b7368f2"
      },
      "execution_count": null,
      "outputs": [
        {
          "output_type": "stream",
          "name": "stdout",
          "text": [
            "18,27,36,45,54,63\n"
          ]
        }
      ]
    },
    {
      "cell_type": "code",
      "source": [
        "#task 1(d)\n",
        "for count in range(18,64,9):\n",
        "  if count == 63:\n",
        "    print(-count)\n",
        "  elif count%2!=0:\n",
        "    print(-count,end=\",\")\n",
        "  else:\n",
        "    print(count,end=\",\")"
      ],
      "metadata": {
        "colab": {
          "base_uri": "https://localhost:8080/"
        },
        "id": "s6VKAz7fDnD0",
        "outputId": "7bdf4ab4-3782-4c4c-e7eb-e222a4aee589"
      },
      "execution_count": null,
      "outputs": [
        {
          "output_type": "stream",
          "name": "stdout",
          "text": [
            "18,-27,36,-45,54,-63\n"
          ]
        }
      ]
    },
    {
      "cell_type": "code",
      "source": [
        "for count in range(18,64,9):\n",
        "  if count%2 == 0:\n",
        "    print(count,end=\",\")\n",
        "  else:\n",
        "    if count == 63:\n",
        "      print(-count)\n",
        "    else:\n",
        "      print(-count,end=\",\")"
      ],
      "metadata": {
        "colab": {
          "base_uri": "https://localhost:8080/"
        },
        "id": "b8bDB77AxtkE",
        "outputId": "abbb5a19-4dee-43f7-c75f-a813f157525a"
      },
      "execution_count": null,
      "outputs": [
        {
          "output_type": "stream",
          "name": "stdout",
          "text": [
            "18,-27,36,-45,54,-63\n"
          ]
        }
      ]
    },
    {
      "cell_type": "code",
      "source": [
        "#task 2\n",
        "car = input(\"Enter your favorite car name: \")\n",
        "num = int(input(\"Enter num: \"))\n",
        "for count in range(num):\n",
        "  print(car)"
      ],
      "metadata": {
        "colab": {
          "base_uri": "https://localhost:8080/"
        },
        "id": "wfcuOP1aENU-",
        "outputId": "43c0cc45-0734-4c26-a2fe-80fa034efb8a"
      },
      "execution_count": null,
      "outputs": [
        {
          "output_type": "stream",
          "name": "stdout",
          "text": [
            "Enter your favorite car name: toyota\n",
            "Enter num: 2\n",
            "toyota\n",
            "toyota\n"
          ]
        }
      ]
    },
    {
      "cell_type": "code",
      "source": [
        "#task 3\n",
        "sum = 0\n",
        "for count in range(0,601):\n",
        "  if count%7==0 and count%9 ==0:\n",
        "    sum = sum + count\n",
        "print(sum)\n"
      ],
      "metadata": {
        "colab": {
          "base_uri": "https://localhost:8080/"
        },
        "id": "i0YBo0ygFKHe",
        "outputId": "6e4ea98b-85f8-490f-e39f-bfe37b5c5911"
      },
      "execution_count": null,
      "outputs": [
        {
          "output_type": "stream",
          "name": "stdout",
          "text": [
            "2835\n"
          ]
        }
      ]
    },
    {
      "cell_type": "code",
      "source": [
        "#task 4\n",
        "sum = 0\n",
        "for count in range(0,601):\n",
        "  if count%7==0 and count%9!=0 or count%7!=0 and count%9==0:\n",
        "    sum += count\n",
        "print(sum)"
      ],
      "metadata": {
        "colab": {
          "base_uri": "https://localhost:8080/"
        },
        "id": "NpRHGR-vFurn",
        "outputId": "376ae627-e1e3-461a-8953-e1b575a177c2"
      },
      "execution_count": null,
      "outputs": [
        {
          "output_type": "stream",
          "name": "stdout",
          "text": [
            "39814\n"
          ]
        }
      ]
    },
    {
      "cell_type": "code",
      "source": [
        "#task 5\n",
        "for count in range(10,51):\n",
        "  if count%2!=0:\n",
        "    print(count,end=\" \")"
      ],
      "metadata": {
        "colab": {
          "base_uri": "https://localhost:8080/"
        },
        "id": "03YQ50qGGUQu",
        "outputId": "79138f62-a4d2-49a9-92f1-6bf0147bc9af"
      },
      "execution_count": null,
      "outputs": [
        {
          "output_type": "stream",
          "name": "stdout",
          "text": [
            "11 13 15 17 19 21 23 25 27 29 31 33 35 37 39 41 43 45 47 49 "
          ]
        }
      ]
    },
    {
      "cell_type": "code",
      "source": [
        "#task 6\n",
        "n = int(input(\"Enter n: \"))\n",
        "y = 0\n",
        "for count in range(1,n+1):\n",
        "  if count%2 == 0:\n",
        "    y = y-count**2\n",
        "  else:\n",
        "    y = y+count**2\n",
        "print(y)"
      ],
      "metadata": {
        "colab": {
          "base_uri": "https://localhost:8080/"
        },
        "id": "r6eDIxcNGtDm",
        "outputId": "2a0a666a-cea2-4a4e-c07b-d995d1787203"
      },
      "execution_count": null,
      "outputs": [
        {
          "output_type": "stream",
          "name": "stdout",
          "text": [
            "Enter n: 5\n",
            "15\n"
          ]
        }
      ]
    },
    {
      "cell_type": "code",
      "source": [
        "#task 7\n",
        "sum = 0\n",
        "total = 0\n",
        "for count in range(0,10):\n",
        "  num = int(input(\"Enter Number: \"))\n",
        "  if num%2!=0:\n",
        "    sum = sum + num\n",
        "    total +=1\n",
        "avg = sum/total\n",
        "print(\"The total of the odd numbers is {} and their average is {}\".format(sum,avg))"
      ],
      "metadata": {
        "colab": {
          "base_uri": "https://localhost:8080/"
        },
        "id": "qjajvaQGHaL2",
        "outputId": "6b7ce640-ae9b-46b1-af67-55ddcef83435"
      },
      "execution_count": null,
      "outputs": [
        {
          "output_type": "stream",
          "name": "stdout",
          "text": [
            "Enter Number: 1\n",
            "Enter Number: 2\n",
            "Enter Number: 3\n",
            "Enter Number: 4\n",
            "Enter Number: 5\n",
            "Enter Number: 6\n",
            "Enter Number: 7\n",
            "Enter Number: 8\n",
            "Enter Number: 9\n",
            "Enter Number: 10\n",
            "The total of the odd numbers is 25 and their average is 5.0\n"
          ]
        }
      ]
    },
    {
      "cell_type": "code",
      "source": [
        "#task 8\n",
        "N = int(input(\"Enter n: \"))\n",
        "sum = 0\n",
        "for count in range(N):\n",
        "  if count%7==0:\n",
        "    sum = sum + count\n",
        "print(sum)"
      ],
      "metadata": {
        "colab": {
          "base_uri": "https://localhost:8080/"
        },
        "id": "Cqj8y4koJer8",
        "outputId": "615ab6e5-950d-4a1b-f9c5-93d8b26a04fe"
      },
      "execution_count": null,
      "outputs": [
        {
          "output_type": "stream",
          "name": "stdout",
          "text": [
            "Enter n: 75\n",
            "385\n"
          ]
        }
      ]
    },
    {
      "cell_type": "code",
      "source": [
        "#task 9\n",
        "sum = 0\n",
        "for count in range(0,5):\n",
        "  num = int(input(\"Enter numbers: \"))\n",
        "  sum += num\n",
        "  print(sum)\n"
      ],
      "metadata": {
        "colab": {
          "base_uri": "https://localhost:8080/"
        },
        "id": "mK40WP9NKIWj",
        "outputId": "3fe49777-759b-4838-eb11-dd3bbafdd95c"
      },
      "execution_count": null,
      "outputs": [
        {
          "output_type": "stream",
          "name": "stdout",
          "text": [
            "Enter numbers: 1\n",
            "1\n",
            "Enter numbers: 2\n",
            "3\n",
            "Enter numbers: 3\n",
            "6\n",
            "Enter numbers: 4\n",
            "10\n",
            "Enter numbers: 5\n",
            "15\n"
          ]
        }
      ]
    },
    {
      "cell_type": "code",
      "source": [
        "#task 10\n",
        "num = int(input(\"Enter number: \"))\n",
        "while num>0:\n",
        "  if num//10==0:\n",
        "    print(num%10)\n",
        "  else:\n",
        "    print(num%10,end=\",\")\n",
        "  num = num//10"
      ],
      "metadata": {
        "colab": {
          "base_uri": "https://localhost:8080/"
        },
        "id": "8bf0FQcXLDlz",
        "outputId": "73929386-e165-40a4-b143-40ce0643fe28"
      },
      "execution_count": null,
      "outputs": [
        {
          "output_type": "stream",
          "name": "stdout",
          "text": [
            "Enter number: 32768\n",
            "8,6,7,2,3\n"
          ]
        }
      ]
    },
    {
      "cell_type": "code",
      "source": [
        "#task 11\n",
        "num = int(input(\"Enter number: \"))\n",
        "count = 0\n",
        "while num>0:\n",
        "  count +=1\n",
        "  num = num//10\n",
        "print(count)\n",
        "\n"
      ],
      "metadata": {
        "colab": {
          "base_uri": "https://localhost:8080/"
        },
        "id": "YKDbFezBU9Em",
        "outputId": "fbec8e0f-b3f0-482e-e29d-762348c8dcb8"
      },
      "execution_count": null,
      "outputs": [
        {
          "output_type": "stream",
          "name": "stdout",
          "text": [
            "Enter number: 9876\n",
            "4\n"
          ]
        }
      ]
    },
    {
      "cell_type": "code",
      "source": [
        "#task 12\n",
        "num = int(input(\"Enter a number: \"))\n",
        "count = 0\n",
        "num1 = num\n",
        "while num>0:\n",
        "  num = num//10\n",
        "  count+=1\n",
        "\n",
        "while num1>0:\n",
        "  div = 10**(count-1)\n",
        "  if 0<=num1<=9:\n",
        "    print(num1//div)\n",
        "  else:\n",
        "    print(num1//div,end=\",\")\n",
        "  num1 = num1%div\n",
        "  count -=1"
      ],
      "metadata": {
        "colab": {
          "base_uri": "https://localhost:8080/"
        },
        "id": "iPAovW7OYgXw",
        "outputId": "89f3580a-a082-4c32-808c-c10c6e330911"
      },
      "execution_count": null,
      "outputs": [
        {
          "output_type": "stream",
          "name": "stdout",
          "text": [
            "Enter a number: 32768\n",
            "3,2,7,6,8\n"
          ]
        }
      ]
    },
    {
      "cell_type": "code",
      "source": [
        "#task 13\n",
        "num = int(input())\n",
        "count = 0\n",
        "for div in range(1,num+1):\n",
        "  if num%div == 0:\n",
        "    print(div)\n",
        "    count +=1\n",
        "print(\"Total {} divisors.\".format(count))"
      ],
      "metadata": {
        "colab": {
          "base_uri": "https://localhost:8080/"
        },
        "id": "93q7mg_56CjA",
        "outputId": "6601ec12-f16f-4797-a1b1-e1b9a279a7f2"
      },
      "execution_count": null,
      "outputs": [
        {
          "output_type": "stream",
          "name": "stdout",
          "text": [
            "121\n",
            "1\n",
            "11\n",
            "121\n",
            "Total 3 divisors.\n"
          ]
        }
      ]
    },
    {
      "cell_type": "code",
      "source": [
        "#task 13\n",
        "num = int(input(\"Enter a number: \"))\n",
        "count = 0\n",
        "for div in range(1,num+1):\n",
        "  if num%div==0:\n",
        "    if div == num:\n",
        "      print(div)\n",
        "    else:\n",
        "      print(div,end=\",\")\n",
        "    count +=1\n",
        "print(\"Total {} divisors.\".format(count))\n"
      ],
      "metadata": {
        "colab": {
          "base_uri": "https://localhost:8080/"
        },
        "id": "9pMCuSGdjhBk",
        "outputId": "7d7e7854-370d-4bf7-f2ab-8ca65ba80c3f"
      },
      "execution_count": null,
      "outputs": [
        {
          "output_type": "stream",
          "name": "stdout",
          "text": [
            "Enter a number: 543\n",
            "1,3,181,543\n",
            "Total 4 divisors.\n"
          ]
        }
      ]
    },
    {
      "cell_type": "code",
      "source": [
        "#task 13(using while loop)\n",
        "num = int(input(\"Enter your desired number: \"))\n",
        "divisor = 1\n",
        "counter = 0\n",
        "while divisor<=num:\n",
        "  if num%divisor == 0:\n",
        "    if divisor == num:\n",
        "      print(divisor)\n",
        "    else:\n",
        "      print(divisor,end=\",\")\n",
        "    counter+=1\n",
        "  divisor +=1\n",
        "print(\"Total {} divisors.\".format(counter))\n"
      ],
      "metadata": {
        "colab": {
          "base_uri": "https://localhost:8080/"
        },
        "id": "OLRmqjAy1p8l",
        "outputId": "57d1e87e-f548-47fa-b0b9-a04c49dceab7"
      },
      "execution_count": null,
      "outputs": [
        {
          "output_type": "stream",
          "name": "stdout",
          "text": [
            "Enter your desired number: 6\n",
            "1,2,3,6\n",
            "Total 4 divisors.\n"
          ]
        }
      ]
    },
    {
      "cell_type": "code",
      "source": [
        "#task 14\n",
        "num = int(input(\"Enter a number: \"))\n",
        "sum = 0\n",
        "\n",
        "for count in range(1,num+1):\n",
        "  if num%count==0:\n",
        "    sum += count\n",
        "sum1 = sum - num\n",
        "if sum1 == num:\n",
        "  print(num,\"is a perfect number.\")\n",
        "else:\n",
        "  print(num,\"is not a perfect number.\")"
      ],
      "metadata": {
        "colab": {
          "base_uri": "https://localhost:8080/"
        },
        "id": "Iuy8E4Gy5Mch",
        "outputId": "2dbefb46-ec73-4b1c-d671-29e5c5e3f759"
      },
      "execution_count": null,
      "outputs": [
        {
          "output_type": "stream",
          "name": "stdout",
          "text": [
            "Enter a number: 6\n",
            "6 is a perfect number.\n"
          ]
        }
      ]
    },
    {
      "cell_type": "code",
      "source": [
        "#task 15\n",
        "num = int(input(\"Enter a number: \"))\n",
        "count = 0\n",
        "for div in range(1,num+1):\n",
        "  if num%div==0:\n",
        "    count+=1\n",
        "if count == 2:\n",
        "  print(num,\"is a prime number\")\n",
        "else:\n",
        "  print(num,\"is not a prime number\")"
      ],
      "metadata": {
        "colab": {
          "base_uri": "https://localhost:8080/"
        },
        "id": "Q-c03UoRlibY",
        "outputId": "b987372c-b22c-40fe-9431-db61142429c9"
      },
      "execution_count": null,
      "outputs": [
        {
          "output_type": "stream",
          "name": "stdout",
          "text": [
            "Enter a number: 2\n",
            "2 is a prime number\n"
          ]
        }
      ]
    },
    {
      "cell_type": "code",
      "source": [
        "#task 15(using while loop)\n",
        "num = int(input(\"Enter a number: \"))\n",
        "divisor = 1\n",
        "count = 0\n",
        "while divisor<=num:\n",
        "  if num%divisor == 0:\n",
        "    count+=1\n",
        "  divisor+=1\n",
        "if count == 2:\n",
        "  print(num,\"is a prime number.\")\n",
        "else:\n",
        "  print(num,\"is not a prime nnumber.\")\n",
        "\n"
      ],
      "metadata": {
        "colab": {
          "base_uri": "https://localhost:8080/"
        },
        "id": "3j3ctwEE5vxa",
        "outputId": "8e55e109-d685-4f39-864d-780b6507e00e"
      },
      "execution_count": null,
      "outputs": [
        {
          "output_type": "stream",
          "name": "stdout",
          "text": [
            "Enter a number: 6\n",
            "6 is not a prime nnumber.\n"
          ]
        }
      ]
    },
    {
      "cell_type": "code",
      "source": [
        "#task 16\n",
        "end = int(input(\"Enter your end number: \"))\n",
        "max = None\n",
        "min = None\n",
        "start = 0\n",
        "sum = 0\n",
        "while start<end:\n",
        "  num = int(input(\"Enter your desired number: \"))\n",
        "  if start == 0:\n",
        "    max = num\n",
        "    min = num\n",
        "  elif min>num:\n",
        "    min = num\n",
        "  elif max<num:\n",
        "    max = num\n",
        "  sum = sum + num\n",
        "  start +=1\n",
        "avg = sum/end\n",
        "print(\"Maximum \",max)\n",
        "print(\"Minimum \",min)\n",
        "print(\"Average \",avg)"
      ],
      "metadata": {
        "id": "Esg6-zTDmxlp",
        "colab": {
          "base_uri": "https://localhost:8080/"
        },
        "outputId": "42d9926a-8883-4af8-b184-155cc7598c86"
      },
      "execution_count": null,
      "outputs": [
        {
          "output_type": "stream",
          "name": "stdout",
          "text": [
            "Enter your end number: 5\n",
            "Enter your desired number: 10\n",
            "Enter your desired number: 4\n",
            "Enter your desired number: -1\n",
            "Enter your desired number: -100\n",
            "Enter your desired number: 1\n",
            "Maximum  10\n",
            "Minimum  -100\n",
            "Average  -17.2\n"
          ]
        }
      ]
    },
    {
      "cell_type": "code",
      "source": [
        "#task 16(using for loop)\n",
        "start = 1\n",
        "max = None\n",
        "min = None\n",
        "sum = 0\n",
        "end = int(input())\n",
        "for i in range(start,end+1):\n",
        "  num = int(input(\"Enter number: \"))\n",
        "  if i == 1:\n",
        "    max = num\n",
        "    min = num\n",
        "  elif min>num:\n",
        "    min = num\n",
        "  elif max<num:\n",
        "    max = num\n",
        "  sum += num\n",
        "avg = sum/end\n",
        "print(\"Maximum \",max)\n",
        "print(\"Minimum \",min)\n",
        "print(\"Average \",avg)"
      ],
      "metadata": {
        "colab": {
          "base_uri": "https://localhost:8080/"
        },
        "id": "jr9sK8j-3CK5",
        "outputId": "5c65a894-7b60-413d-aa2a-857971944da3"
      },
      "execution_count": null,
      "outputs": [
        {
          "output_type": "stream",
          "name": "stdout",
          "text": [
            "5\n",
            "Enter number: 10\n",
            "Enter number: 4\n",
            "Enter number: -1\n",
            "Enter number: -100\n",
            "Enter number: 1\n",
            "Maximum  10\n",
            "Minimum  -100\n",
            "Average  -17.2\n"
          ]
        }
      ]
    },
    {
      "cell_type": "code",
      "source": [
        "#task 17\n",
        "N = int(input(\"Enter N: \"))\n",
        "for row in range(0,N):\n",
        "  for column in range(0,N):\n",
        "    print(\"+\",end=\"\")\n",
        "  print()\n"
      ],
      "metadata": {
        "colab": {
          "base_uri": "https://localhost:8080/"
        },
        "id": "SBJJ8xlu_dl3",
        "outputId": "7a7df3dd-a903-49b4-f6a1-fc0a1e23d5fc"
      },
      "execution_count": null,
      "outputs": [
        {
          "output_type": "stream",
          "name": "stdout",
          "text": [
            "Enter N: 5\n",
            "+++++\n",
            "+++++\n",
            "+++++\n",
            "+++++\n",
            "+++++\n"
          ]
        }
      ]
    },
    {
      "cell_type": "code",
      "source": [
        "#task 17(using while loop)\n",
        "n = int(input())\n",
        "start = 1\n",
        "while start<=n:\n",
        "  column = 1\n",
        "  while column<=n:\n",
        "    print(\"+\",end=\"\")\n",
        "    column +=1\n",
        "  print()\n",
        "  start +=1"
      ],
      "metadata": {
        "colab": {
          "base_uri": "https://localhost:8080/"
        },
        "id": "_oKJXtn3ADkS",
        "outputId": "4f29f15f-56e0-422f-fa3a-d1f39f239777"
      },
      "execution_count": null,
      "outputs": [
        {
          "output_type": "stream",
          "name": "stdout",
          "text": [
            "5\n",
            "+++++\n",
            "+++++\n",
            "+++++\n",
            "+++++\n",
            "+++++\n"
          ]
        }
      ]
    },
    {
      "cell_type": "code",
      "source": [
        "#task 18\n",
        "N = int(input(\"Enter N: \"))\n",
        "M = int(input(\"Enter N: \"))\n",
        "for row in range(1,N+1):\n",
        "  for column in range(1,M+1):\n",
        "    print(column,end=\"\")\n",
        "  print()\n"
      ],
      "metadata": {
        "id": "7mkYD-WKBOdU",
        "colab": {
          "base_uri": "https://localhost:8080/"
        },
        "outputId": "bf3ceb9f-411b-46c9-9c1b-b7d77ea4fbd0"
      },
      "execution_count": null,
      "outputs": [
        {
          "output_type": "stream",
          "name": "stdout",
          "text": [
            "Enter N: 4\n",
            "Enter N: 6\n",
            "123456\n",
            "123456\n",
            "123456\n",
            "123456\n"
          ]
        }
      ]
    },
    {
      "cell_type": "code",
      "source": [
        "#task 19\n",
        "N = int(input(\"Enter a number: \"))\n",
        "for row in range(1,N+1):\n",
        "  for column in range(1,row+1):\n",
        "    print(column,end=\"\")\n",
        "  print()\n",
        "\n"
      ],
      "metadata": {
        "colab": {
          "base_uri": "https://localhost:8080/"
        },
        "id": "YDwE2JcqBV9g",
        "outputId": "84d2641d-f7fe-4c6c-8640-f260c8329124"
      },
      "execution_count": null,
      "outputs": [
        {
          "output_type": "stream",
          "name": "stdout",
          "text": [
            "Enter a number: 5\n",
            "1\n",
            "12\n",
            "123\n",
            "1234\n",
            "12345\n"
          ]
        }
      ]
    },
    {
      "cell_type": "code",
      "source": [
        "#task 25\n",
        "num = int(input(\"Enter a range: \"))\n",
        "num1 = 0\n",
        "num2 = 1\n",
        "sum = 0\n",
        "for i in range(0,num):\n",
        "  if sum>num:\n",
        "    break\n",
        "  else:\n",
        "    print(sum,end = \" \")\n",
        "    num1 = num2\n",
        "    num2 = sum\n",
        "    sum = num1 + num2"
      ],
      "metadata": {
        "id": "p5CzOAodkTXL",
        "colab": {
          "base_uri": "https://localhost:8080/"
        },
        "outputId": "4945dbf8-7930-4cbd-8a6d-7a7083148074"
      },
      "execution_count": null,
      "outputs": [
        {
          "output_type": "stream",
          "name": "stdout",
          "text": [
            "Enter a range: 10\n",
            "0 1 1 2 3 5 8 "
          ]
        }
      ]
    }
  ]
}